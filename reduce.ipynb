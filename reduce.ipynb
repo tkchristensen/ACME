{
 "cells": [
  {
   "cell_type": "code",
   "execution_count": 1,
   "metadata": {
    "ExecuteTime": {
     "end_time": "2017-04-16T23:35:17.532832",
     "start_time": "2017-04-16T23:35:16.654005"
    },
    "collapsed": false
   },
   "outputs": [],
   "source": [
    "import numpy as np\n",
    "import time\n",
    "import matplotlib.pyplot as plt\n",
    "from matplotlib import rcParams\n",
    "\n",
    "from sklearn.datasets import load_breast_cancer, load_digits, fetch_olivetti_faces\n",
    "from sklearn.model_selection import train_test_split\n",
    "from sklearn.ensemble import RandomForestClassifier\n",
    "\n",
    "from sklearn.decomposition import PCA\n",
    "\n",
    "from sklearn.svm import SVC\n",
    "\n",
    "rcParams['figure.figsize'] = (10,5)"
   ]
  },
  {
   "cell_type": "markdown",
   "metadata": {},
   "source": [
    "### Load Datasets"
   ]
  },
  {
   "cell_type": "code",
   "execution_count": 2,
   "metadata": {
    "ExecuteTime": {
     "end_time": "2017-04-16T23:35:18.519188",
     "start_time": "2017-04-16T23:35:18.323866"
    },
    "collapsed": false
   },
   "outputs": [],
   "source": [
    "cancer_X, cancer_y = load_breast_cancer(return_X_y=True)\n",
    "digits_X, digits_y = load_digits(return_X_y=True)\n",
    "\n",
    "faces = fetch_olivetti_faces()\n",
    "faces_X = faces['data']\n",
    "faces_y = faces['target']"
   ]
  },
  {
   "cell_type": "markdown",
   "metadata": {},
   "source": [
    "### Create Train/Test Splits"
   ]
  },
  {
   "cell_type": "code",
   "execution_count": 3,
   "metadata": {
    "ExecuteTime": {
     "end_time": "2017-04-16T23:35:20.517236",
     "start_time": "2017-04-16T23:35:20.507485"
    },
    "collapsed": false
   },
   "outputs": [],
   "source": [
    "digits_Xtrain, digits_Xtest, digits_ytrain, digits_ytest = train_test_split(digits_X, digits_y, train_size=.7)\n",
    "cancer_Xtrain, cancer_Xtest, cancer_ytrain, cancer_ytest = train_test_split(cancer_X, cancer_y, train_size=.7)\n",
    "faces_Xtrain, faces_Xtest, faces_ytrain, faces_ytest = train_test_split(faces_X, faces_y, train_size=.7)"
   ]
  },
  {
   "cell_type": "markdown",
   "metadata": {},
   "source": [
    "## Breast Cancer\n",
    "\n",
    "Since there are different units across the features, it is most appropriate to use the \n",
    "Random Forest feature importance dimension reduction."
   ]
  },
  {
   "cell_type": "code",
   "execution_count": 9,
   "metadata": {
    "ExecuteTime": {
     "end_time": "2017-04-16T23:37:02.336022",
     "start_time": "2017-04-16T23:37:02.202725"
    },
    "collapsed": false
   },
   "outputs": [
    {
     "name": "stdout",
     "output_type": "stream",
     "text": [
      "Top Features:\n",
      "\tfractal dimension error\n",
      "\ttexture error\n",
      "\tperimeter error\n",
      "\tmean symmetry\n",
      "\tcompactness error\n",
      "\tconcavity error\n",
      "\tradius error\n",
      "\n",
      "           Accuracy   Timings   \n",
      "Original   94.152%    0.05897   \n",
      "Reduced    84.211%    0.12      \n"
     ]
    }
   ],
   "source": [
    "before = time.time()\n",
    "rf = RandomForestClassifier()\n",
    "cancer_acc = rf.fit(cancer_Xtrain, cancer_ytrain).score(cancer_Xtest, cancer_ytest)\n",
    "after = time.time()\n",
    "\n",
    "cancer_timing = after - before\n",
    "\n",
    "top_features = np.argsort(rf.feature_importances_)[:rf.feature_importances_.size//4]\n",
    "reduced_cancer_Xtrain = cancer_Xtrain[:,top_features]\n",
    "reduced_cancer_Xtest = cancer_Xtest[:,top_features]\n",
    "\n",
    "print \"Top Features:\"\n",
    "for l in load_breast_cancer()['feature_names'][top_features]:\n",
    "    print '\\t', l\n",
    "print \"\"\n",
    "    \n",
    "reduced_cancer_acc = RandomForestClassifier().fit(reduced_cancer_Xtrain, cancer_ytrain).score(reduced_cancer_Xtest, cancer_ytest)\n",
    "after = time.time()\n",
    "reduced_cancer_timing = after - before\n",
    "                                                                                              \n",
    "print \"{:<10} {:<10} {:<10}\".format(\"\", \"Accuracy\", \"Timings\")\n",
    "print \"{:<10} {:<10.3%} {:<10.4}\".format(\"Original\", cancer_acc, cancer_timing)\n",
    "print \"{:<10} {:<10.3%} {:<10.4}\".format(\"Reduced\", reduced_cancer_acc, reduced_cancer_timing)                                                                                        "
   ]
  },
  {
   "cell_type": "markdown",
   "metadata": {},
   "source": [
    "For a dataset this small, we actually lose accuracy *and* execution time. The execution time is nearly double for the reduced method because we have to run the original model first to be able to determine the feature importances. For a especially large datasets, we would choose a small subset of the data to choose calculate the feature importances before running the random forest on all of the reduced data."
   ]
  },
  {
   "cell_type": "markdown",
   "metadata": {},
   "source": [
    "## Digits\n",
    "Since all of the features have pixel values as a their units, it is feasible to use PCA."
   ]
  },
  {
   "cell_type": "code",
   "execution_count": 12,
   "metadata": {
    "ExecuteTime": {
     "end_time": "2017-04-16T23:38:35.617422",
     "start_time": "2017-04-16T23:38:35.504547"
    },
    "collapsed": false
   },
   "outputs": [
    {
     "name": "stdout",
     "output_type": "stream",
     "text": [
      "           Accuracy   Timings   \n",
      "Original   99.259%    0.05406   \n",
      "Reduced    98.704%    0.04744   \n"
     ]
    }
   ],
   "source": [
    "before = time.time()\n",
    "digits_acc = (SVC(kernel='poly').fit(digits_Xtrain, digits_ytrain).predict(digits_Xtest) == digits_ytest).mean()\n",
    "after = time.time()\n",
    "\n",
    "digits_timing = after-before\n",
    "\n",
    "before = time.time()\n",
    "pca = PCA(digits_Xtrain.shape[1]//4)\n",
    "reduced_digits_Xtrain = pca.fit_transform(digits_Xtrain)\n",
    "reduced_digits_Xtest = pca.transform(digits_Xtest)\n",
    "\n",
    "reduced_digits_acc = SVC(kernel='poly').fit(reduced_digits_Xtrain, digits_ytrain).score(reduced_digits_Xtest, digits_ytest)\n",
    "after = time.time()\n",
    "\n",
    "reduced_digits_timing = after-before\n",
    "\n",
    "print \"{:<10} {:<10} {:<10}\".format(\"\", \"Accuracy\", \"Timings\")\n",
    "print \"{:<10} {:<10.3%} {:<10.4}\".format(\"Original\", digits_acc, digits_timing)\n",
    "print \"{:<10} {:<10.3%} {:<10.4}\".format(\"Reduced\", reduced_digits_acc, reduced_digits_timing)"
   ]
  },
  {
   "cell_type": "markdown",
   "metadata": {},
   "source": [
    "## Faces\n",
    "As with the digits, since all of the features have pixel values as a their units, it is feasible to use PCA."
   ]
  },
  {
   "cell_type": "code",
   "execution_count": 22,
   "metadata": {
    "ExecuteTime": {
     "end_time": "2017-04-16T23:41:03.572856",
     "start_time": "2017-04-16T23:41:02.749245"
    },
    "collapsed": false
   },
   "outputs": [
    {
     "name": "stdout",
     "output_type": "stream",
     "text": [
      "           Accuracy   Timings   \n",
      "Original   95.833%    0.652     \n",
      "Reduced    95.833%    0.1603    \n"
     ]
    }
   ],
   "source": [
    "before = time.time()\n",
    "faces_acc = SVC(kernel='poly', C=10, gamma=.01, coef0=1).fit(faces_Xtrain, faces_ytrain).score(faces_Xtest, faces_ytest)\n",
    "after = time.time()\n",
    "faces_timing = after - before\n",
    "\n",
    "before = time.time()\n",
    "pca = PCA(faces_Xtrain.shape[1]//4)\n",
    "reduced_faces_Xtrain = pca.fit_transform(faces_Xtrain)\n",
    "reduced_faces_Xtest = pca.transform(faces_Xtest)\n",
    "\n",
    "reduced_faces_acc = SVC(kernel='poly', C=10, gamma=.01, coef0=1).fit(reduced_faces_Xtrain, faces_ytrain).score(reduced_faces_Xtest, faces_ytest)\n",
    "after = time.time()\n",
    "reduced_faces_timing = after - before\n",
    "\n",
    "print \"{:<10} {:<10} {:<10}\".format(\"\", \"Accuracy\", \"Timings\")\n",
    "print \"{:<10} {:<10.3%} {:<10.4}\".format(\"Original\", faces_acc, faces_timing)\n",
    "print \"{:<10} {:<10.3%} {:<10.4}\".format(\"Reduced\", reduced_faces_acc, reduced_faces_timing)                            "
   ]
  },
  {
   "cell_type": "markdown",
   "metadata": {
    "ExecuteTime": {
     "end_time": "2017-04-16T23:44:58.430115",
     "start_time": "2017-04-16T23:44:58.425173"
    }
   },
   "source": [
    "Notice there was a time improvement in both cases without sacrificing much (if any) accuracy."
   ]
  }
 ],
 "metadata": {
  "anaconda-cloud": {},
  "hide_input": false,
  "kernelspec": {
   "display_name": "Python [default]",
   "language": "python",
   "name": "python2"
  },
  "language_info": {
   "codemirror_mode": {
    "name": "ipython",
    "version": 2
   },
   "file_extension": ".py",
   "mimetype": "text/x-python",
   "name": "python",
   "nbconvert_exporter": "python",
   "pygments_lexer": "ipython2",
   "version": "2.7.12"
  },
  "latex_envs": {
   "LaTeX_envs_menu_present": true,
   "bibliofile": "biblio.bib",
   "cite_by": "apalike",
   "current_citInitial": 1,
   "eqLabelWithNumbers": true,
   "eqNumInitial": 1,
   "labels_anchors": false,
   "latex_user_defs": false,
   "report_style_numbering": false,
   "user_envs_cfg": false
  }
 },
 "nbformat": 4,
 "nbformat_minor": 1
}
