{
 "cells": [
  {
   "cell_type": "code",
   "execution_count": 1,
   "metadata": {
    "ExecuteTime": {
     "end_time": "2017-01-23T01:32:13.662861",
     "start_time": "2017-01-23T01:32:13.229314"
    },
    "collapsed": true
   },
   "outputs": [],
   "source": [
    "from __future__ import division\n",
    "\n",
    "import scipy.linalg as la\n",
    "import numpy as np\n",
    "import matplotlib.pyplot as plt\n",
    "\n",
    "from sklearn.model_selection import train_test_split\n",
    "from sklearn import datasets\n",
    "from sklearn.linear_model import LinearRegression, Perceptron"
   ]
  },
  {
   "cell_type": "markdown",
   "metadata": {},
   "source": [
    "# Least Mean Squares"
   ]
  },
  {
   "cell_type": "code",
   "execution_count": 2,
   "metadata": {
    "ExecuteTime": {
     "end_time": "2017-01-23T01:32:13.693108",
     "start_time": "2017-01-23T01:32:13.666928"
    },
    "collapsed": true
   },
   "outputs": [],
   "source": [
    "def my_LMS(X, y, maxiter=10):\n",
    "    \"\"\"\n",
    "    Least Mean Squares algorithm.\n",
    "    \n",
    "    Inputs:\n",
    "        X (array-like) - 2D array of training features\n",
    "        y (array-like) - 1D array of target values\n",
    "    Outputs:\n",
    "        w (array-like) - array of coefficients\n",
    "    \"\"\"\n",
    "    \n",
    "    index = np.arange(X.shape[0])\n",
    "    \n",
    "    w0 = np.ones(X.shape[1])\n",
    "    for k in xrange(maxiter):\n",
    "        nk = 1 / (1+k)\n",
    "        w1 = w0.copy()\n",
    "\n",
    "        np.random.shuffle(index)\n",
    "        for i in index:\n",
    "            x = X[i]\n",
    "            g = x*(w1.dot(x) - y[i])\n",
    "            g = g / la.norm(g)\n",
    "            w1 -= nk*g\n",
    "    \n",
    "        diff = la.norm(w1 - w0)\n",
    "        if diff < 10**-5:\n",
    "            return w1\n",
    "    \n",
    "        w0 = w1.copy()\n",
    "    return w1"
   ]
  },
  {
   "cell_type": "code",
   "execution_count": 3,
   "metadata": {
    "ExecuteTime": {
     "end_time": "2017-01-23T01:32:13.710503",
     "start_time": "2017-01-23T01:32:13.694472"
    },
    "collapsed": true
   },
   "outputs": [],
   "source": [
    "def my_OLS(X,y):\n",
    "    \"\"\"\n",
    "    Ordinary Least Squares algorithm.\n",
    "    \n",
    "    Inputs:\n",
    "        X (array-like) - 2D array of training features\n",
    "        y (array-like) - 1D array of target values\n",
    "    Outputs:\n",
    "        w (array-like) - array of coefficients\n",
    "    \"\"\"\n",
    "    Q,R = np.linalg.qr(X)\n",
    "    return la.solve(R.T.dot(R), X.T.dot(y))"
   ]
  },
  {
   "cell_type": "markdown",
   "metadata": {},
   "source": [
    "## Comparision of Least Mean Squares and Ordinary Least Squares"
   ]
  },
  {
   "cell_type": "markdown",
   "metadata": {},
   "source": [
    "### Coefficients"
   ]
  },
  {
   "cell_type": "code",
   "execution_count": 4,
   "metadata": {
    "ExecuteTime": {
     "end_time": "2017-01-23T01:32:14.045205",
     "start_time": "2017-01-23T01:32:13.712642"
    },
    "collapsed": false
   },
   "outputs": [
    {
     "name": "stdout",
     "output_type": "stream",
     "text": [
      "LMS coef: [  44.43146487   52.14487703  149.53886351]\n",
      "OLS coef: [  43.94478748   52.25177557  149.96184256]\n"
     ]
    }
   ],
   "source": [
    "# Contrived linear regression dataset\n",
    "X, y = datasets.make_regression(n_samples=2000, n_features=2, noise=4, bias=150)\n",
    "X = np.hstack((X, np.ones((X.shape[0],1))))\n",
    "\n",
    "print \"LMS coef:\", my_LMS(X,y)\n",
    "print \"OLS coef:\", my_OLS(X,y)"
   ]
  },
  {
   "cell_type": "markdown",
   "metadata": {},
   "source": [
    "### Timing"
   ]
  },
  {
   "cell_type": "code",
   "execution_count": 5,
   "metadata": {
    "ExecuteTime": {
     "end_time": "2017-01-23T01:32:14.346309",
     "start_time": "2017-01-23T01:32:14.046552"
    },
    "collapsed": false
   },
   "outputs": [
    {
     "name": "stdout",
     "output_type": "stream",
     "text": [
      "CPU times: user 296 ms, sys: 4 ms, total: 300 ms\n",
      "Wall time: 297 ms\n"
     ]
    }
   ],
   "source": [
    "%time w = my_LMS(X,y)"
   ]
  },
  {
   "cell_type": "code",
   "execution_count": 6,
   "metadata": {
    "ExecuteTime": {
     "end_time": "2017-01-23T01:32:14.352281",
     "start_time": "2017-01-23T01:32:14.348058"
    },
    "collapsed": false
   },
   "outputs": [
    {
     "name": "stdout",
     "output_type": "stream",
     "text": [
      "CPU times: user 0 ns, sys: 4 ms, total: 4 ms\n",
      "Wall time: 655 µs\n"
     ]
    }
   ],
   "source": [
    "%time w = my_OLS(X,y)"
   ]
  },
  {
   "cell_type": "markdown",
   "metadata": {},
   "source": [
    "# Perceptron"
   ]
  },
  {
   "cell_type": "code",
   "execution_count": 7,
   "metadata": {
    "ExecuteTime": {
     "end_time": "2017-01-23T01:32:14.377846",
     "start_time": "2017-01-23T01:32:14.355484"
    },
    "collapsed": false
   },
   "outputs": [],
   "source": [
    "def my_perceptron(X, y, maxiter=1000):\n",
    "    \"\"\" \n",
    "    Vanilla implementation of a perceptron.\n",
    "    \n",
    "    Inputs:\n",
    "        X (array-like) : 2D array of features\n",
    "        y (array-like) : 1D array of target labels {-1,1}\n",
    "        maxiter (int, optional) : maximum number of iterations.\n",
    "            Defaults to 1000.\n",
    "    Returns:\n",
    "        w (array) : coefficients of linear decision boundary\n",
    "    \"\"\"\n",
    "    w0 = np.ones(X.shape[1])\n",
    "    N = X.shape[0]\n",
    "    c=0\n",
    "    for k in xrange(maxiter):\n",
    "        w1 = w0.copy()\n",
    "        i = k % N\n",
    "        x = X[i]\n",
    "        \n",
    "        if np.sign(w1.dot(x)) != y[i]:\n",
    "            w1 += y[i]*x\n",
    "            c = 0\n",
    "        else:\n",
    "            c+=1\n",
    "        \n",
    "        if c > X.shape[0]:\n",
    "            return w1\n",
    "        \n",
    "        w0 = w1.copy()\n",
    "    return w1"
   ]
  },
  {
   "cell_type": "markdown",
   "metadata": {},
   "source": [
    "## Comparison of My Perceptron and Sci-kit's Perceptron"
   ]
  },
  {
   "cell_type": "code",
   "execution_count": 8,
   "metadata": {
    "ExecuteTime": {
     "end_time": "2017-01-23T01:32:14.677543",
     "start_time": "2017-01-23T01:32:14.387517"
    },
    "collapsed": false
   },
   "outputs": [
    {
     "data": {
      "image/png": "[encoded data removed]",
      "text/plain": [
       "<matplotlib.figure.Figure at 0x7f203542d350>"
      ]
     },
     "metadata": {},
     "output_type": "display_data"
    }
   ],
   "source": [
    "# Contrived linearly-separable dataset\n",
    "X,y = datasets.make_blobs(n_samples=5000, n_features=2, centers=2, cluster_std=1.2, random_state=3333)\n",
    "X = np.hstack((X, np.ones((X.shape[0],1))))\n",
    "y = 2*y - 1\n",
    "\n",
    "plt.scatter(X[y==1,0], X[y==1,1], color='red', alpha=.3)\n",
    "plt.scatter(X[y==-1,0], X[y==-1,1], color='blue', alpha=.3)\n",
    "plt.show()"
   ]
  },
  {
   "cell_type": "markdown",
   "metadata": {},
   "source": [
    "### Coefficients"
   ]
  },
  {
   "cell_type": "code",
   "execution_count": 9,
   "metadata": {
    "ExecuteTime": {
     "end_time": "2017-01-23T01:32:14.698851",
     "start_time": "2017-01-23T01:32:14.680962"
    },
    "collapsed": false
   },
   "outputs": [
    {
     "name": "stdout",
     "output_type": "stream",
     "text": [
      "My Perceptron coef :\t\t[-1.3576851   1.15240562  6.        ]\n",
      "Sci-kit's Perceptron coef :\t[-2.0294481   1.82735408  5.        ]\n"
     ]
    }
   ],
   "source": [
    "Xtrain, Xtest, ytrain, ytest = train_test_split(X, y, train_size=.7)\n",
    "\n",
    "my_w = my_perceptron(X,y)\n",
    "my_acc = (np.sign(my_w.dot(Xtest.T))==ytest).mean()\n",
    "\n",
    "per = Perceptron().fit(X,y)\n",
    "sk_w = per.coef_[0]\n",
    "sk_acc = (np.sign(sk_w.dot(Xtest.T))==ytest).mean()\n",
    "\n",
    "print \"My Perceptron coef :\\t\\t\", my_w\n",
    "print \"Sci-kit's Perceptron coef :\\t\", sk_w"
   ]
  },
  {
   "cell_type": "markdown",
   "metadata": {},
   "source": [
    "### Accuracy"
   ]
  },
  {
   "cell_type": "code",
   "execution_count": 10,
   "metadata": {
    "ExecuteTime": {
     "end_time": "2017-01-23T01:32:14.707255",
     "start_time": "2017-01-23T01:32:14.702227"
    },
    "collapsed": false
   },
   "outputs": [
    {
     "name": "stdout",
     "output_type": "stream",
     "text": [
      "My Accuracy :\t\t1.0\n",
      "Sci-kit's Accuracy :\t0.976\n"
     ]
    }
   ],
   "source": [
    "print \"My Accuracy :\\t\\t\", my_acc\n",
    "print \"Sci-kit's Accuracy :\\t\", sk_acc"
   ]
  },
  {
   "cell_type": "markdown",
   "metadata": {},
   "source": [
    "### Timing"
   ]
  },
  {
   "cell_type": "code",
   "execution_count": 11,
   "metadata": {
    "ExecuteTime": {
     "end_time": "2017-01-23T01:32:15.737265",
     "start_time": "2017-01-23T01:32:14.711289"
    },
    "collapsed": false
   },
   "outputs": [
    {
     "name": "stdout",
     "output_type": "stream",
     "text": [
      "100 loops, best of 3: 2.29 ms per loop\n"
     ]
    }
   ],
   "source": [
    "%timeit w = my_perceptron(X,y)"
   ]
  },
  {
   "cell_type": "code",
   "execution_count": 12,
   "metadata": {
    "ExecuteTime": {
     "end_time": "2017-01-23T01:32:21.729483",
     "start_time": "2017-01-23T01:32:15.739195"
    },
    "collapsed": false
   },
   "outputs": [
    {
     "name": "stdout",
     "output_type": "stream",
     "text": [
      "1000 loops, best of 3: 1.33 ms per loop\n"
     ]
    }
   ],
   "source": [
    "%timeit w = Perceptron().fit(X,y).coef_"
   ]
  }
 ],
 "metadata": {
  "anaconda-cloud": {},
  "kernelspec": {
   "display_name": "Python [default]",
   "language": "python",
   "name": "python2"
  },
  "language_info": {
   "codemirror_mode": {
    "name": "ipython",
    "version": 2
   },
   "file_extension": ".py",
   "mimetype": "text/x-python",
   "name": "python",
   "nbconvert_exporter": "python",
   "pygments_lexer": "ipython2",
   "version": "2.7.12"
  },
  "latex_envs": {
   "bibliofile": "biblio.bib",
   "cite_by": "apalike",
   "current_citInitial": 1,
   "eqLabelWithNumbers": true,
   "eqNumInitial": 0
  }
 },
 "nbformat": 4,
 "nbformat_minor": 1
}
