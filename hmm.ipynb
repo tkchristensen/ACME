{
 "cells": [
  {
   "cell_type": "code",
   "execution_count": 1,
   "metadata": {
    "ExecuteTime": {
     "end_time": "2017-03-28T22:11:58.061284",
     "start_time": "2017-03-28T22:11:57.648631"
    },
    "collapsed": true
   },
   "outputs": [],
   "source": [
    "import numpy as np\n",
    "import itertools\n",
    "\n",
    "A = np.array([[.7,.3],[.4,.6]])\n",
    "B = np.array([[.1,.4,.5],[.7,.2,.1]])\n",
    "pi = np.array([.6,.4])"
   ]
  },
  {
   "cell_type": "code",
   "execution_count": 2,
   "metadata": {
    "ExecuteTime": {
     "end_time": "2017-03-28T22:11:58.073096",
     "start_time": "2017-03-28T22:11:58.063107"
    },
    "collapsed": false
   },
   "outputs": [],
   "source": [
    "def calc_prob1(obs):\n",
    "    \"\"\"Calculate probabilities using a brute-force method.\"\"\"\n",
    "    total = 0\n",
    "    for st in tuple(itertools.product([0,1], repeat=4)):\n",
    "        mid = 1\n",
    "        for i in [0,1,2]:\n",
    "            mid *= B[st[i], obs[i]]*A[st[i], st[i+1]]\n",
    "            \n",
    "        total += pi[st[0]]*mid*B[st[3], obs[3]]\n",
    "    return total"
   ]
  },
  {
   "cell_type": "code",
   "execution_count": 3,
   "metadata": {
    "ExecuteTime": {
     "end_time": "2017-03-28T22:11:58.094279",
     "start_time": "2017-03-28T22:11:58.075629"
    },
    "collapsed": false
   },
   "outputs": [
    {
     "name": "stdout",
     "output_type": "stream",
     "text": [
      "Total Probability: 1.0\n"
     ]
    }
   ],
   "source": [
    "observations = tuple(itertools.product([0,1,2], repeat=4))\n",
    "probs1 = {obs:calc_prob1(obs) for obs in observations}\n",
    "print \"Total Probability:\", np.sum(probs1.values())"
   ]
  },
  {
   "cell_type": "code",
   "execution_count": 4,
   "metadata": {
    "ExecuteTime": {
     "end_time": "2017-03-28T22:11:58.108374",
     "start_time": "2017-03-28T22:11:58.096734"
    },
    "collapsed": false
   },
   "outputs": [],
   "source": [
    "def calc_probs2(obs):\n",
    "    \"\"\"Calculate probabilities recurisvely.\"\"\"\n",
    "    alpha = np.zeros((4,2))\n",
    "    alpha[0,:] = [pi[0]*B[0,obs[0]], pi[1]*B[1, obs[0]]]\n",
    "    for t in [1,2,3]:\n",
    "        alpha[t,0] = (alpha[t-1,0]*A[0,0] + alpha[t-1,1]*A[1,0])*B[0,obs[t]]\n",
    "        alpha[t,1] = (alpha[t-1,0]*A[0,1] + alpha[t-1,1]*A[1,1])*B[1,obs[t]]\n",
    "\n",
    "    return alpha.sum(axis=1)[-1]"
   ]
  },
  {
   "cell_type": "code",
   "execution_count": 5,
   "metadata": {
    "ExecuteTime": {
     "end_time": "2017-03-28T22:11:58.121727",
     "start_time": "2017-03-28T22:11:58.111141"
    },
    "collapsed": false
   },
   "outputs": [
    {
     "name": "stdout",
     "output_type": "stream",
     "text": [
      "Total Probability: 1.0\n"
     ]
    }
   ],
   "source": [
    "observations = tuple(itertools.product([0,1,2], repeat=4))\n",
    "probs2 = {obs:calc_probs2(obs) for obs in observations}\n",
    "print \"Total Probability:\", np.sum(probs2.values())"
   ]
  },
  {
   "cell_type": "code",
   "execution_count": 6,
   "metadata": {
    "ExecuteTime": {
     "end_time": "2017-03-28T22:11:58.133852",
     "start_time": "2017-03-28T22:11:58.124410"
    },
    "collapsed": false
   },
   "outputs": [],
   "source": [
    "def check_equality(p1, p2):\n",
    "    \"\"\"Check to make sure dictionaries p1 and p2 are equal with\n",
    "    with keys defined as 'observations'.\"\"\"\n",
    "    observations = tuple(itertools.product([0,1,2], repeat=4))\n",
    "    for obs in observations:\n",
    "        if np.allclose(p1[obs],p2[obs]):\n",
    "            continue\n",
    "        else:\n",
    "            print \"Answers do not agree for observation:\", obs\n",
    "            return False\n",
    "    return True"
   ]
  },
  {
   "cell_type": "code",
   "execution_count": 7,
   "metadata": {
    "ExecuteTime": {
     "end_time": "2017-03-28T22:11:58.151703",
     "start_time": "2017-03-28T22:11:58.136655"
    },
    "collapsed": false
   },
   "outputs": [
    {
     "name": "stdout",
     "output_type": "stream",
     "text": [
      "All Equal? True\n"
     ]
    }
   ],
   "source": [
    "print \"All Equal?\", check_equality(probs1, probs2)"
   ]
  },
  {
   "cell_type": "markdown",
   "metadata": {},
   "source": [
    "# Homework 3/31\n",
    "\n",
    "### Written Homework\n",
    "\n",
    "#### Problem 2\n",
    "\n",
    "a) Looking at the table of probabilities in Problem 1, the state producing the highest probability is $CCH$.\n",
    "\n",
    "b) Looking at the table of values resulting from the $\\alpha$ pass algorithm, we take a row-wise argmax of the resulting alpha matrix to get $CCH$.\n",
    "\n",
    "#### Problem 4\n",
    "\n",
    "9) $$\\pi_i = \\gamma_0(i) = \\frac{\\alpha_0(i)\\beta_0(i)}{P(O|\\lambda)} = \\frac{\\alpha_0(i)\\beta_0(i)}{\\sum^{N-1}_{i=0}\\alpha_{T-1}(i)}$$\n",
    "\n",
    "10) $$a_{ij} = \\frac{\\sum^{T-2}_{t=0}\\gamma_t(i,j)}{\\sum^{T-2}_{t=0}\\gamma_t(i)} = \n",
    "\\frac{\\sum^{T-2}_{t=0}\\frac{\\alpha_t(i)a_{ij}b_j(O_{t+1})\\beta_{t+1}(j)}{P(O | \\lambda)}}{\\sum^{T-2}_{t=0}\\frac{\\alpha_t(i)\\beta_t(i)}{P(O | \\lambda)}} = \n",
    "\\frac{\\sum^{T-2}_{t=0}\\alpha_t(i)a_{ij}b_j(O_{t+1})\\beta_{t+1}(j)}{\\sum^{T-2}_{t=0}\\alpha_t(i)\\beta_t(i)}$$ \n",
    "\n",
    "11) $$b_j(k) = \\frac{\\sum_{t \\in \\{0,1,...,T-1\\}, O_t=k} \\gamma_t(j)}{\\sum^{T-1}_{t=0}\\gamma_t(j)} =\n",
    "\\frac{\\sum_{t \\in \\{0,1,...,T-1\\}, O_t=k} \\frac{\\alpha_t(i)\\beta_t(i)}{P(O | \\lambda)}}{\\sum^{T-1}_{t=0}\\frac{\\alpha_t(i)\\beta_t(i)}{P(O | \\lambda)}} = \n",
    "\\frac{\\sum_{t \\in \\{0,1,...,T-1\\}, O_t=k}\\alpha_t(i)\\beta_t(i)}{\\sum^{T-1}_{t=0}\\alpha_t(i)\\beta_t(i)}$$"
   ]
  },
  {
   "cell_type": "code",
   "execution_count": 8,
   "metadata": {
    "ExecuteTime": {
     "end_time": "2017-03-31T01:43:36.344584",
     "start_time": "2017-03-31T01:43:36.334041"
    },
    "collapsed": false
   },
   "outputs": [],
   "source": [
    "import numpy as np\n",
    "\n",
    "A = np.array([[.7,.3],[.4,.6]])\n",
    "B = np.array([[.1,.4,.5],[.7,.2,.1]])\n",
    "pi = np.array([.6,.4])\n",
    "\n",
    "obs = [0,1,0,1]\n",
    "\n",
    "delta = np.zeros((4,2))\n",
    "delta[0,:] = [pi[0]*B[0,obs[0]], pi[1]*B[1, obs[0]]]\n",
    "for t in [1,2,3]:\n",
    "    delta[t,0] = np.maximum(delta[t-1,0]*A[0,0], delta[t-1,1]*A[1,0])*B[0,obs[t]]\n",
    "    delta[t,1] = np.maximum(delta[t-1,0]*A[0,1], delta[t-1,1]*A[1,1])*B[1,obs[t]]"
   ]
  },
  {
   "cell_type": "code",
   "execution_count": 12,
   "metadata": {
    "ExecuteTime": {
     "end_time": "2017-03-31T11:34:34.497380",
     "start_time": "2017-03-31T11:34:34.491490"
    },
    "collapsed": false
   },
   "outputs": [
    {
     "data": {
      "text/plain": [
       "array([1, 0, 1, 0])"
      ]
     },
     "execution_count": 12,
     "metadata": {},
     "output_type": "execute_result"
    }
   ],
   "source": [
    "np.argmax(delta, axis=1)"
   ]
  },
  {
   "cell_type": "markdown",
   "metadata": {},
   "source": [
    "# Homework 4/3\n",
    "\n",
    "### Problems 1-6"
   ]
  },
  {
   "cell_type": "code",
   "execution_count": 1,
   "metadata": {
    "ExecuteTime": {
     "end_time": "2017-04-03T12:13:46.001327",
     "start_time": "2017-04-03T12:13:45.128370"
    },
    "collapsed": false
   },
   "outputs": [],
   "source": [
    "from __future__ import division\n",
    "import numpy as np\n",
    "import string\n",
    "import codecs\n",
    "import matplotlib.pyplot as plt\n",
    "\n",
    "def vec_translate(a, my_dict):\n",
    "    # translate numpy array from symbols to state numbers or vice versa\n",
    "    return np.vectorize(my_dict.__getitem__)(a)\n",
    "\n",
    "def prep_data(filename):\n",
    "    # Get the data as a single string\n",
    "    with codecs.open(filename, encoding='utf-8') as f:\n",
    "        data=f.read().lower() #and convert to all lower case\n",
    "    \n",
    "    # remove punctuation and newlines\n",
    "    remove_punct_map = {ord(char): None for char in string.punctuation+\"\\n\\r\"}\n",
    "    \n",
    "    data = data.translate(remove_punct_map)\n",
    "    \n",
    "    # make a list of the symbols in the data\n",
    "    symbols = sorted(list(set(data)))\n",
    "    \n",
    "    # convert the data to a NumPy array of symbols\n",
    "    a = np.array(list(data))\n",
    "    \n",
    "    #make a conversion dictionary from symbols to state numbers\n",
    "    symbols_to_obsstates = {x:i for i,x in enumerate(symbols)}\n",
    "    \n",
    "    #convert the symbols in a to state numbers\n",
    "    obs_sequence = vec_translate(a,symbols_to_obsstates)\n",
    "    return symbols, obs_sequence\n",
    "\n",
    "class hmm(object):\n",
    "    def __init__(self):\n",
    "        self.A = None\n",
    "        self.B = None\n",
    "        self.pi = None\n",
    "    \n",
    "    def _forward(self, obs):\n",
    "        \"\"\"\n",
    "        Compute the scaled forward probability matrix and scaling factors.\n",
    "        Parameters\n",
    "        ----------\n",
    "        obs : ndarray of shape (T,)\n",
    "               The observation sequence\n",
    "\n",
    "        Returns\n",
    "        -------\n",
    "        alpha : ndarray of shape (T,N)\n",
    "                 The scaled forward probability matrix\n",
    "        c : ndarray of shape (T,)\n",
    "             The scaling factors c = [c_1,c_2,...,c_T]\n",
    "        \"\"\"\n",
    "        alpha = np.zeros((len(obs), len(self.pi)))\n",
    "        \n",
    "        c1 = 1/(np.dot(self.pi, self.B[obs[0],:]))\n",
    "        alpha[0,:] = c1*(self.pi*self.B[obs[0],:])\n",
    "        \n",
    "        c = [c1]\n",
    "        for t in xrange(1,len(obs)):\n",
    "            ct = 1/(self.A.dot(alpha[t-1,:]).dot(self.B[obs[t],:]))\n",
    "            alpha[t,:] = ct*self.A.dot(alpha[t-1,:])*self.B[obs[t],:]\n",
    "            c.append(ct)\n",
    "        \n",
    "        return alpha, np.array(c)\n",
    "    \n",
    "    def _backward(self, obs, c):\n",
    "        \"\"\"\n",
    "        Compute the scaled backward probability matrix.\n",
    "        \n",
    "        Parameters\n",
    "        ----------\n",
    "        obs : ndarray of shape (T,)\n",
    "               The observation sequence\n",
    "        c : ndarray of shape (T,)\n",
    "             The scaling factors from the forward pass\n",
    "        \n",
    "        Returns\n",
    "        -------\n",
    "        beta : ndarray of shape (T,N)\n",
    "                The scaled backward probability matrix\n",
    "        \"\"\"\n",
    "        beta = np.zeros((len(obs), len(self.pi)))\n",
    "        cT = c[-1]\n",
    "        \n",
    "        beta[-1,:] = cT\n",
    "        for t in xrange(len(obs)-2,-1,-1):\n",
    "            beta[t,:] = c[t]*self.A.T.dot(self.B[obs[t+1],:]*beta[t+1,:])\n",
    "        return beta\n",
    "    \n",
    "    def _delta(self, obs, alpha, beta):\n",
    "        \"\"\"\n",
    "        Compute the delta probabilities.\n",
    "        \n",
    "        Parameters\n",
    "        ----------\n",
    "        obs : ndarray of shape (T,)\n",
    "            The observation sequence\n",
    "        alpha : ndarray of shape (T,N)\n",
    "            The scaled forward probability matrix from the forward pass\n",
    "        beta : ndarray of shape (T,N)\n",
    "            The scaled backward probability matrix from the backward pass\n",
    "        \n",
    "        Returns\n",
    "        -------\n",
    "        delta : ndarray of shape (T-1,N,N)\n",
    "              The delta probability array\n",
    "        gamma : ndarray of shape (T,N)\n",
    "              The gamma probability array\n",
    "        \"\"\"\n",
    "        delta = np.zeros((len(obs)-1, len(self.pi), len(self.pi)))\n",
    "        gamma = np.zeros((len(obs), len(self.pi)))\n",
    "        \n",
    "        for t in xrange(delta.shape[0]):\n",
    "            denom = 0\n",
    "            for l in xrange(self.A.shape[0]):\n",
    "                for k in xrange(self.A.shape[1]):\n",
    "                    denom += alpha[t,k]*self.A[l,k]*self.B[obs[t+1], l]*beta[t+1,l]\n",
    "            \n",
    "            for i in xrange(delta.shape[1]):\n",
    "                for j in xrange(delta.shape[2]):\n",
    "                    num = alpha[t,i]*A[j,i]*B[obs[t+1], j]*beta[t+1,j]\n",
    "                    delta[t,i,j] = num/denom\n",
    "                  \n",
    "        gamma[0:-1,:] = delta.sum(axis=2)\n",
    "        gamma[-1,:] = alpha[-1,:]*beta[-1,:]/np.dot(alpha[-1,:],beta[-1,:])\n",
    "        \n",
    "        return delta, gamma\n",
    "    \n",
    "    def _estimate(self, obs, delta, gamma):\n",
    "        \"\"\"\n",
    "        Estimate better parameter values.\n",
    "        \n",
    "        Parameters\n",
    "        ----------\n",
    "        obs : ndarray of shape (T,)\n",
    "            The observation sequence\n",
    "        delta : ndarray of shape (T-1,N,N)\n",
    "            The delta probability array\n",
    "        gamma : ndarray of shape (T,N)\n",
    "            The gamma probability array\n",
    "        \"\"\"\n",
    "        # update self.A, self.B, self.pi in place\n",
    "        for i in xrange(self.A.shape[0]):\n",
    "            for j in xrange(self.A.shape[1]):\n",
    "                num = 0\n",
    "                denom = 0\n",
    "                for t in xrange(0,len(obs)-1):\n",
    "                    num += delta[t,j,i]\n",
    "                    denom += gamma[t,j]\n",
    "                self.A[i,j] = num/denom\n",
    "\n",
    "        for i in xrange(self.B.shape[0]):\n",
    "            for j in xrange(self.B.shape[1]):\n",
    "                self.B[i,j] = np.sum(gamma[:,j]*(obs==i)) / gamma[:,j].sum()\n",
    "                \n",
    "        self.pi = gamma[0,:]\n",
    "        \n",
    "    def fit(self, obs, A, B, pi, max_iter=200, tol=1e-3):\n",
    "        \"\"\"\n",
    "        Fit the model parameters to a given observation sequence.\n",
    "        Parameters\n",
    "        ----------\n",
    "        obs : ndarray of shape (T,)\n",
    "           Observation sequence on which to train the model.\n",
    "        A : stochastic ndarray of shape (N,N)\n",
    "           Initialization of state transition matrix\n",
    "        B : stochastic ndarray of shape (M,N)\n",
    "           Initialization of state observation matrix\n",
    "        pi : stochastic ndarray of shape (N,)\n",
    "           Initialization of initial state distribution\n",
    "        max_iter : integer\n",
    "           The maximum number of iterations to take\n",
    "        tol : float\n",
    "           The convergence threshold for change in log-probability\n",
    "        \"\"\"\n",
    "        # initialize self.A, self.B, self.pi\n",
    "        self.A = A\n",
    "        self.B = B\n",
    "        self.pi = pi\n",
    "        \n",
    "        # run the iteration\n",
    "        log_probs = [0]\n",
    "        \n",
    "        for i in xrange(max_iter):\n",
    "            alpha, c = self._forward(obs)\n",
    "            log_prob1 = -(np.log(c)).sum()\n",
    "            \n",
    "            if np.abs(log_prob1 - log_probs[-1]) < tol:\n",
    "                log_probs.append(log_prob1)\n",
    "               \n",
    "                break\n",
    "            else:\n",
    "                log_probs.append(log_prob1)\n",
    "            \n",
    "            beta = self._backward(obs, c)\n",
    "            delta, gamma = self._delta(obs, alpha, beta)\n",
    "            self._estimate(obs, delta, gamma)\n",
    "    \n",
    "       \n",
    "        print log_probs[-1]\n",
    "        \n",
    "        plt.plot(log_probs[1:])\n",
    "        plt.show()"
   ]
  },
  {
   "cell_type": "markdown",
   "metadata": {
    "ExecuteTime": {
     "end_time": "2017-04-02T23:37:56.892025",
     "start_time": "2017-04-02T23:37:56.887483"
    }
   },
   "source": [
    "### Problem 7"
   ]
  },
  {
   "cell_type": "code",
   "execution_count": 206,
   "metadata": {
    "ExecuteTime": {
     "end_time": "2017-03-31T13:50:19.189624",
     "start_time": "2017-03-31T13:49:27.109934"
    },
    "collapsed": false
   },
   "outputs": [
    {
     "name": "stdout",
     "output_type": "stream",
     "text": [
      "maxiters reached\n",
      "-21508.2480829\n"
     ]
    },
    {
     "data": {
      "image/png": "[encoded data removed]",
      "text/plain": [
       "<matplotlib.figure.Figure at 0x10a038ad0>"
      ]
     },
     "metadata": {},
     "output_type": "display_data"
    }
   ],
   "source": [
    "N = 2\n",
    "\n",
    "symbols, obs = prep_data('declaration.txt')\n",
    "M = len(set(obs))\n",
    "A = np.random.dirichlet(np.ones(N), size=N).T\n",
    "B = np.random.dirichlet(np.ones(M), size=N).T\n",
    "pi = np.random.dirichlet(np.ones(N))\n",
    "\n",
    "h = hmm()\n",
    "h.fit(obs, A, B, pi)"
   ]
  },
  {
   "cell_type": "markdown",
   "metadata": {},
   "source": [
    "My results accurately distinguish between a vowel and a consonant."
   ]
  },
  {
   "cell_type": "code",
   "execution_count": 207,
   "metadata": {
    "ExecuteTime": {
     "end_time": "2017-03-31T13:50:19.195843",
     "start_time": "2017-03-31T13:50:19.191447"
    },
    "collapsed": false
   },
   "outputs": [
    {
     "name": "stdout",
     "output_type": "stream",
     "text": [
      " , 0.0123, 0.3275\n",
      "a, 0.0000, 0.1257\n",
      "b, 0.0236, 0.0000\n",
      "c, 0.0456, 0.0000\n",
      "d, 0.0625, 0.0000\n",
      "e, 0.0000, 0.2265\n",
      "f, 0.0446, 0.0000\n",
      "g, 0.0322, 0.0000\n",
      "h, 0.0818, 0.0050\n",
      "i, 0.0000, 0.1184\n",
      "j, 0.0040, 0.0000\n",
      "k, 0.0031, 0.0004\n",
      "l, 0.0565, 0.0000\n",
      "m, 0.0357, 0.0000\n",
      "n, 0.1198, 0.0000\n",
      "o, 0.0003, 0.1349\n",
      "p, 0.0342, 0.0000\n",
      "q, 0.0015, 0.0000\n",
      "r, 0.1054, 0.0000\n",
      "s, 0.1185, 0.0000\n",
      "t, 0.1587, 0.0000\n",
      "u, 0.0000, 0.0551\n",
      "v, 0.0183, 0.0000\n",
      "w, 0.0241, 0.0000\n",
      "x, 0.0022, 0.0000\n",
      "y, 0.0141, 0.0064\n",
      "z, 0.0010, 0.0000\n"
     ]
    }
   ],
   "source": [
    "for i in xrange(len(h.B)):\n",
    "    print \"{0}, {1:0.4f}, {2:0.4f}\".format(symbols[i], h.B[i,0], h.B[i,1])"
   ]
  },
  {
   "cell_type": "markdown",
   "metadata": {},
   "source": [
    "### Problem 8\n",
    "It is difficult to detect specifically what the characteristics of the resulting clusters are when N = 3,4."
   ]
  },
  {
   "cell_type": "code",
   "execution_count": 2,
   "metadata": {
    "ExecuteTime": {
     "end_time": "2017-04-03T12:14:39.101706",
     "start_time": "2017-04-03T12:13:51.461907"
    },
    "collapsed": false
   },
   "outputs": [
    {
     "ename": "KeyboardInterrupt",
     "evalue": "",
     "output_type": "error",
     "traceback": [
      "\u001b[0;31m---------------------------------------------------------------------------\u001b[0m",
      "\u001b[0;31mKeyboardInterrupt\u001b[0m                         Traceback (most recent call last)",
      "\u001b[0;32m<ipython-input-2-4652f4dc8cad>\u001b[0m in \u001b[0;36m<module>\u001b[0;34m()\u001b[0m\n\u001b[1;32m      8\u001b[0m \u001b[0;34m\u001b[0m\u001b[0m\n\u001b[1;32m      9\u001b[0m \u001b[0mh\u001b[0m \u001b[0;34m=\u001b[0m \u001b[0mhmm\u001b[0m\u001b[0;34m(\u001b[0m\u001b[0;34m)\u001b[0m\u001b[0;34m\u001b[0m\u001b[0m\n\u001b[0;32m---> 10\u001b[0;31m \u001b[0mh\u001b[0m\u001b[0;34m.\u001b[0m\u001b[0mfit\u001b[0m\u001b[0;34m(\u001b[0m\u001b[0mobs\u001b[0m\u001b[0;34m,\u001b[0m \u001b[0mA\u001b[0m\u001b[0;34m,\u001b[0m \u001b[0mB\u001b[0m\u001b[0;34m,\u001b[0m \u001b[0mpi\u001b[0m\u001b[0;34m)\u001b[0m\u001b[0;34m\u001b[0m\u001b[0m\n\u001b[0m",
      "\u001b[0;32m<ipython-input-1-72b1c9071536>\u001b[0m in \u001b[0;36mfit\u001b[0;34m(self, obs, A, B, pi, max_iter, tol)\u001b[0m\n\u001b[1;32m    185\u001b[0m \u001b[0;34m\u001b[0m\u001b[0m\n\u001b[1;32m    186\u001b[0m         \u001b[0;32mfor\u001b[0m \u001b[0mi\u001b[0m \u001b[0;32min\u001b[0m \u001b[0mxrange\u001b[0m\u001b[0;34m(\u001b[0m\u001b[0mmax_iter\u001b[0m\u001b[0;34m)\u001b[0m\u001b[0;34m:\u001b[0m\u001b[0;34m\u001b[0m\u001b[0m\n\u001b[0;32m--> 187\u001b[0;31m             \u001b[0malpha\u001b[0m\u001b[0;34m,\u001b[0m \u001b[0mc\u001b[0m \u001b[0;34m=\u001b[0m \u001b[0mself\u001b[0m\u001b[0;34m.\u001b[0m\u001b[0m_forward\u001b[0m\u001b[0;34m(\u001b[0m\u001b[0mobs\u001b[0m\u001b[0;34m)\u001b[0m\u001b[0;34m\u001b[0m\u001b[0m\n\u001b[0m\u001b[1;32m    188\u001b[0m             \u001b[0mlog_prob1\u001b[0m \u001b[0;34m=\u001b[0m \u001b[0;34m-\u001b[0m\u001b[0;34m(\u001b[0m\u001b[0mnp\u001b[0m\u001b[0;34m.\u001b[0m\u001b[0mlog\u001b[0m\u001b[0;34m(\u001b[0m\u001b[0mc\u001b[0m\u001b[0;34m)\u001b[0m\u001b[0;34m)\u001b[0m\u001b[0;34m.\u001b[0m\u001b[0msum\u001b[0m\u001b[0;34m(\u001b[0m\u001b[0;34m)\u001b[0m\u001b[0;34m\u001b[0m\u001b[0m\n\u001b[1;32m    189\u001b[0m \u001b[0;34m\u001b[0m\u001b[0m\n",
      "\u001b[0;32m<ipython-input-1-72b1c9071536>\u001b[0m in \u001b[0;36m_forward\u001b[0;34m(self, obs)\u001b[0m\n\u001b[1;32m     60\u001b[0m         \u001b[0mc\u001b[0m \u001b[0;34m=\u001b[0m \u001b[0;34m[\u001b[0m\u001b[0mc1\u001b[0m\u001b[0;34m]\u001b[0m\u001b[0;34m\u001b[0m\u001b[0m\n\u001b[1;32m     61\u001b[0m         \u001b[0;32mfor\u001b[0m \u001b[0mt\u001b[0m \u001b[0;32min\u001b[0m \u001b[0mxrange\u001b[0m\u001b[0;34m(\u001b[0m\u001b[0;36m1\u001b[0m\u001b[0;34m,\u001b[0m\u001b[0mlen\u001b[0m\u001b[0;34m(\u001b[0m\u001b[0mobs\u001b[0m\u001b[0;34m)\u001b[0m\u001b[0;34m)\u001b[0m\u001b[0;34m:\u001b[0m\u001b[0;34m\u001b[0m\u001b[0m\n\u001b[0;32m---> 62\u001b[0;31m             \u001b[0mct\u001b[0m \u001b[0;34m=\u001b[0m \u001b[0;36m1\u001b[0m\u001b[0;34m/\u001b[0m\u001b[0;34m(\u001b[0m\u001b[0mself\u001b[0m\u001b[0;34m.\u001b[0m\u001b[0mA\u001b[0m\u001b[0;34m.\u001b[0m\u001b[0mdot\u001b[0m\u001b[0;34m(\u001b[0m\u001b[0malpha\u001b[0m\u001b[0;34m[\u001b[0m\u001b[0mt\u001b[0m\u001b[0;34m-\u001b[0m\u001b[0;36m1\u001b[0m\u001b[0;34m,\u001b[0m\u001b[0;34m:\u001b[0m\u001b[0;34m]\u001b[0m\u001b[0;34m)\u001b[0m\u001b[0;34m.\u001b[0m\u001b[0mdot\u001b[0m\u001b[0;34m(\u001b[0m\u001b[0mself\u001b[0m\u001b[0;34m.\u001b[0m\u001b[0mB\u001b[0m\u001b[0;34m[\u001b[0m\u001b[0mobs\u001b[0m\u001b[0;34m[\u001b[0m\u001b[0mt\u001b[0m\u001b[0;34m]\u001b[0m\u001b[0;34m,\u001b[0m\u001b[0;34m:\u001b[0m\u001b[0;34m]\u001b[0m\u001b[0;34m)\u001b[0m\u001b[0;34m)\u001b[0m\u001b[0;34m\u001b[0m\u001b[0m\n\u001b[0m\u001b[1;32m     63\u001b[0m             \u001b[0malpha\u001b[0m\u001b[0;34m[\u001b[0m\u001b[0mt\u001b[0m\u001b[0;34m,\u001b[0m\u001b[0;34m:\u001b[0m\u001b[0;34m]\u001b[0m \u001b[0;34m=\u001b[0m \u001b[0mct\u001b[0m\u001b[0;34m*\u001b[0m\u001b[0mself\u001b[0m\u001b[0;34m.\u001b[0m\u001b[0mA\u001b[0m\u001b[0;34m.\u001b[0m\u001b[0mdot\u001b[0m\u001b[0;34m(\u001b[0m\u001b[0malpha\u001b[0m\u001b[0;34m[\u001b[0m\u001b[0mt\u001b[0m\u001b[0;34m-\u001b[0m\u001b[0;36m1\u001b[0m\u001b[0;34m,\u001b[0m\u001b[0;34m:\u001b[0m\u001b[0;34m]\u001b[0m\u001b[0;34m)\u001b[0m\u001b[0;34m*\u001b[0m\u001b[0mself\u001b[0m\u001b[0;34m.\u001b[0m\u001b[0mB\u001b[0m\u001b[0;34m[\u001b[0m\u001b[0mobs\u001b[0m\u001b[0;34m[\u001b[0m\u001b[0mt\u001b[0m\u001b[0;34m]\u001b[0m\u001b[0;34m,\u001b[0m\u001b[0;34m:\u001b[0m\u001b[0;34m]\u001b[0m\u001b[0;34m\u001b[0m\u001b[0m\n\u001b[1;32m     64\u001b[0m             \u001b[0mc\u001b[0m\u001b[0;34m.\u001b[0m\u001b[0mappend\u001b[0m\u001b[0;34m(\u001b[0m\u001b[0mct\u001b[0m\u001b[0;34m)\u001b[0m\u001b[0;34m\u001b[0m\u001b[0m\n",
      "\u001b[0;31mKeyboardInterrupt\u001b[0m: "
     ]
    }
   ],
   "source": [
    "N = 3\n",
    "\n",
    "symbols, obs = prep_data('declaration.txt')\n",
    "M = len(set(obs))\n",
    "A = np.random.dirichlet(np.ones(N), size=N).T\n",
    "B = np.random.dirichlet(np.ones(M), size=N).T\n",
    "pi = np.random.dirichlet(np.ones(N))\n",
    "\n",
    "h = hmm()\n",
    "h.fit(obs, A, B, pi)"
   ]
  },
  {
   "cell_type": "code",
   "execution_count": 209,
   "metadata": {
    "ExecuteTime": {
     "end_time": "2017-03-31T14:19:01.683474",
     "start_time": "2017-03-31T14:19:01.677800"
    },
    "collapsed": false
   },
   "outputs": [
    {
     "name": "stdout",
     "output_type": "stream",
     "text": [
      " , 0.0116, 0.2728, 0.2103\n",
      "a, 0.0000, 0.1757, 0.0000\n",
      "b, 0.0345, 0.0000, 0.0016\n",
      "c, 0.0545, 0.0000, 0.0164\n",
      "d, 0.0308, 0.0000, 0.0690\n",
      "e, 0.0000, 0.1767, 0.1531\n",
      "f, 0.0587, 0.0000, 0.0102\n",
      "g, 0.0189, 0.0000, 0.0324\n",
      "h, 0.0000, 0.0000, 0.1409\n",
      "i, 0.0000, 0.1445, 0.0229\n",
      "j, 0.0017, 0.0000, 0.0047\n",
      "k, 0.0017, 0.0010, 0.0027\n",
      "l, 0.0476, 0.0000, 0.0414\n",
      "m, 0.0403, 0.0011, 0.0140\n",
      "n, 0.1833, 0.0000, 0.0000\n",
      "o, 0.0000, 0.1509, 0.0417\n",
      "p, 0.0394, 0.0000, 0.0138\n",
      "q, 0.0000, 0.0000, 0.0024\n",
      "r, 0.1247, 0.0003, 0.0387\n",
      "s, 0.1209, 0.0000, 0.0644\n",
      "t, 0.1655, 0.0000, 0.0823\n",
      "u, 0.0000, 0.0770, 0.0000\n",
      "v, 0.0240, 0.0000, 0.0044\n",
      "w, 0.0335, 0.0000, 0.0035\n",
      "x, 0.0034, 0.0000, 0.0000\n",
      "y, 0.0034, 0.0000, 0.0291\n",
      "z, 0.0015, 0.0000, 0.0000\n"
     ]
    }
   ],
   "source": [
    "for i in xrange(len(h.B)):\n",
    "    print u\"{0}, {1:0.4f}, {2:0.4f}, {3:0.4f}\".format(symbols[i], h.B[i,0], h.B[i,1], h.B[i,2])"
   ]
  },
  {
   "cell_type": "code",
   "execution_count": 220,
   "metadata": {
    "ExecuteTime": {
     "end_time": "2017-03-31T14:30:21.882033",
     "start_time": "2017-03-31T14:28:12.591612"
    },
    "collapsed": false
   },
   "outputs": [
    {
     "name": "stdout",
     "output_type": "stream",
     "text": [
      "-20356.2047593\n"
     ]
    },
    {
     "data": {
      "image/png": "[encoded data removed]",
      "text/plain": [
       "<matplotlib.figure.Figure at 0x110c6eed0>"
      ]
     },
     "metadata": {},
     "output_type": "display_data"
    }
   ],
   "source": [
    "N = 4\n",
    "\n",
    "symbols, obs = prep_data('declaration.txt')\n",
    "M = len(set(obs))\n",
    "A = np.random.dirichlet(np.ones(N), size=N).T\n",
    "B = np.random.dirichlet(np.ones(M), size=N).T\n",
    "pi = np.random.dirichlet(np.ones(N))\n",
    "\n",
    "h = hmm()\n",
    "h.fit(obs, A, B, pi)"
   ]
  },
  {
   "cell_type": "code",
   "execution_count": 221,
   "metadata": {
    "ExecuteTime": {
     "end_time": "2017-03-31T14:30:21.888013",
     "start_time": "2017-03-31T14:30:21.883752"
    },
    "collapsed": false
   },
   "outputs": [
    {
     "name": "stdout",
     "output_type": "stream",
     "text": [
      " , 0.3084, 0.0000, 0.5180, 0.0000\n",
      "a, 0.0000, 0.0000, 0.0186, 0.1875\n",
      "b, 0.0000, 0.0337, 0.0041, 0.0000\n",
      "c, 0.0021, 0.0553, 0.0204, 0.0000\n",
      "d, 0.0005, 0.0944, 0.0000, 0.0033\n",
      "e, 0.0273, 0.0000, 0.0000, 0.3535\n",
      "f, 0.0131, 0.0630, 0.0023, 0.0000\n",
      "g, 0.0064, 0.0479, 0.0000, 0.0000\n",
      "h, 0.3120, 0.0000, 0.0000, 0.0190\n",
      "i, 0.0759, 0.0000, 0.0348, 0.1309\n",
      "j, 0.0045, 0.0045, 0.0000, 0.0000\n",
      "k, 0.0001, 0.0048, 0.0000, 0.0006\n",
      "l, 0.0787, 0.0395, 0.0258, 0.0000\n",
      "m, 0.0071, 0.0440, 0.0122, 0.0000\n",
      "n, 0.0000, 0.0403, 0.1980, 0.0000\n",
      "o, 0.0043, 0.0000, 0.0035, 0.2133\n",
      "p, 0.0199, 0.0416, 0.0059, 0.0000\n",
      "q, 0.0000, 0.0023, 0.0000, 0.0000\n",
      "r, 0.0882, 0.0983, 0.0444, 0.0000\n",
      "s, 0.0000, 0.1305, 0.0507, 0.0186\n",
      "t, 0.0449, 0.2272, 0.0007, 0.0035\n",
      "u, 0.0056, 0.0000, 0.0533, 0.0431\n",
      "v, 0.0000, 0.0286, 0.0000, 0.0000\n",
      "w, 0.0009, 0.0341, 0.0042, 0.0000\n",
      "x, 0.0000, 0.0013, 0.0029, 0.0000\n",
      "y, 0.0000, 0.0070, 0.0000, 0.0267\n",
      "z, 0.0000, 0.0015, 0.0000, 0.0000\n"
     ]
    }
   ],
   "source": [
    "for i in xrange(len(h.B)):\n",
    "    print u\"{0}, {1:0.4f}, {2:0.4f}, {3:0.4f}, {4:0.4f}\".format(symbols[i], h.B[i,0], h.B[i,1], h.B[i,2], h.B[i,3])"
   ]
  },
  {
   "cell_type": "markdown",
   "metadata": {},
   "source": [
    "### Problem 9\n",
    "\n",
    "It appears as though 2 states did not detect anything immediately obvious, but to me it appears as though 3 states created more definitive groups. I hypothesize the 2 column corresponds to the \"vowel\" state."
   ]
  },
  {
   "cell_type": "code",
   "execution_count": 228,
   "metadata": {
    "ExecuteTime": {
     "end_time": "2017-03-31T14:52:36.662564",
     "start_time": "2017-03-31T14:46:18.148746"
    },
    "collapsed": false
   },
   "outputs": [
    {
     "name": "stdout",
     "output_type": "stream",
     "text": [
      "-166514.367235\n"
     ]
    },
    {
     "data": {
      "image/png": "[encoded data removed]",
      "text/plain": [
       "<matplotlib.figure.Figure at 0x1110b2a50>"
      ]
     },
     "metadata": {},
     "output_type": "display_data"
    }
   ],
   "source": [
    "N = 2\n",
    "\n",
    "symbols, obs = prep_data('WarAndPeace.txt')\n",
    "M = len(set(obs))\n",
    "A = np.random.dirichlet(np.ones(N), size=N).T\n",
    "B = np.random.dirichlet(np.ones(M), size=N).T\n",
    "pi = np.random.dirichlet(np.ones(N))\n",
    "\n",
    "h = hmm()\n",
    "h.fit(obs, A, B, pi)"
   ]
  },
  {
   "cell_type": "code",
   "execution_count": 229,
   "metadata": {
    "ExecuteTime": {
     "end_time": "2017-03-31T14:52:36.672358",
     "start_time": "2017-03-31T14:52:36.665900"
    },
    "collapsed": false
   },
   "outputs": [
    {
     "name": "stdout",
     "output_type": "stream",
     "text": [
      " , 0.1707, 0.1609\n",
      "́, 0.0000, 0.0001\n",
      "а, 0.1902, 0.0169\n",
      "б, 0.0000, 0.0217\n",
      "в, 0.0289, 0.0440\n",
      "г, 0.0046, 0.0236\n",
      "д, 0.0091, 0.0294\n",
      "е, 0.0000, 0.0980\n",
      "ж, 0.0050, 0.0099\n",
      "з, 0.0492, 0.0000\n",
      "и, 0.0736, 0.0445\n",
      "й, 0.0000, 0.0130\n",
      "к, 0.0732, 0.0111\n",
      "л, 0.0686, 0.0319\n",
      "м, 0.0103, 0.0285\n",
      "н, 0.0794, 0.0491\n",
      "о, 0.0000, 0.1390\n",
      "п, 0.0025, 0.0325\n",
      "р, 0.0149, 0.0452\n",
      "с, 0.0589, 0.0345\n",
      "т, 0.0256, 0.0563\n",
      "у, 0.0123, 0.0286\n",
      "ф, 0.0039, 0.0000\n",
      "х, 0.0001, 0.0096\n",
      "ц, 0.0040, 0.0025\n",
      "ч, 0.0058, 0.0142\n",
      "ш, 0.0056, 0.0070\n",
      "щ, 0.0012, 0.0036\n",
      "ъ, 0.0000, 0.0004\n",
      "ы, 0.0000, 0.0217\n",
      "ь, 0.0312, 0.0119\n",
      "э, 0.0000, 0.0038\n",
      "ю, 0.0048, 0.0061\n",
      "я, 0.0664, 0.0005\n",
      "ё, 0.0000, 0.0001\n"
     ]
    }
   ],
   "source": [
    "for i in xrange(len(h.B)):\n",
    "    print u\"{0}, {1:0.4f}, {2:0.4f}\".format(symbols[i], h.B[i,0], h.B[i,1])"
   ]
  },
  {
   "cell_type": "code",
   "execution_count": 226,
   "metadata": {
    "ExecuteTime": {
     "end_time": "2017-03-31T14:44:24.049184",
     "start_time": "2017-03-31T14:38:02.331846"
    },
    "collapsed": false
   },
   "outputs": [
    {
     "name": "stdout",
     "output_type": "stream",
     "text": [
      "-153574.222127\n"
     ]
    },
    {
     "data": {
      "image/png": "[encoded data removed]",
      "text/plain": [
       "<matplotlib.figure.Figure at 0x10ee1c950>"
      ]
     },
     "metadata": {},
     "output_type": "display_data"
    }
   ],
   "source": [
    "N = 3\n",
    "\n",
    "symbols, obs = prep_data('WarAndPeace.txt')\n",
    "M = len(set(obs))\n",
    "A = np.random.dirichlet(np.ones(N), size=N).T\n",
    "B = np.random.dirichlet(np.ones(M), size=N).T\n",
    "pi = np.random.dirichlet(np.ones(N))\n",
    "\n",
    "h = hmm()\n",
    "h.fit(obs, A, B, pi)"
   ]
  },
  {
   "cell_type": "code",
   "execution_count": 227,
   "metadata": {
    "ExecuteTime": {
     "end_time": "2017-03-31T14:44:24.055396",
     "start_time": "2017-03-31T14:44:24.050886"
    },
    "collapsed": false
   },
   "outputs": [
    {
     "name": "stdout",
     "output_type": "stream",
     "text": [
      " , 0.0980, 0.0425, 0.4196\n",
      "́, 0.0000, 0.0000, 0.0002\n",
      "а, 0.0000, 0.1967, 0.0000\n",
      "б, 0.0327, 0.0000, 0.0103\n",
      "в, 0.0716, 0.0000, 0.0466\n",
      "г, 0.0372, 0.0000, 0.0142\n",
      "д, 0.0453, 0.0010, 0.0216\n",
      "е, 0.0000, 0.1535, 0.0486\n",
      "ж, 0.0188, 0.0000, 0.0050\n",
      "з, 0.0272, 0.0000, 0.0186\n",
      "и, 0.0000, 0.1427, 0.0094\n",
      "й, 0.0000, 0.0000, 0.0336\n",
      "к, 0.0581, 0.0000, 0.0316\n",
      "л, 0.0920, 0.0000, 0.0322\n",
      "м, 0.0432, 0.0000, 0.0249\n",
      "н, 0.1307, 0.0000, 0.0349\n",
      "о, 0.0000, 0.2672, 0.0026\n",
      "п, 0.0464, 0.0000, 0.0218\n",
      "р, 0.0865, 0.0000, 0.0124\n",
      "с, 0.0434, 0.0003, 0.0959\n",
      "т, 0.1042, 0.0000, 0.0286\n",
      "у, 0.0000, 0.0646, 0.0018\n",
      "ф, 0.0021, 0.0000, 0.0016\n",
      "х, 0.0122, 0.0000, 0.0077\n",
      "ц, 0.0076, 0.0000, 0.0004\n",
      "ч, 0.0202, 0.0000, 0.0149\n",
      "ш, 0.0147, 0.0000, 0.0038\n",
      "щ, 0.0076, 0.0000, 0.0000\n",
      "ъ, 0.0002, 0.0006, 0.0000\n",
      "ы, 0.0000, 0.0420, 0.0000\n",
      "ь, 0.0000, 0.0500, 0.0000\n",
      "э, 0.0000, 0.0000, 0.0098\n",
      "ю, 0.0000, 0.0029, 0.0175\n",
      "я, 0.0000, 0.0359, 0.0298\n",
      "ё, 0.0000, 0.0001, 0.0000\n"
     ]
    }
   ],
   "source": [
    "for i in xrange(len(h.B)):\n",
    "    print u\"{0}, {1:0.4f}, {2:0.4f}, {3:0.4f}\".format(symbols[i], h.B[i,0], h.B[i,1], h.B[i,2])"
   ]
  },
  {
   "cell_type": "markdown",
   "metadata": {
    "ExecuteTime": {
     "end_time": "2017-04-03T12:15:15.599365",
     "start_time": "2017-04-03T12:15:15.593371"
    },
    "collapsed": false
   },
   "source": [
    "# Homework 4/6"
   ]
  },
  {
   "cell_type": "code",
   "execution_count": 172,
   "metadata": {
    "ExecuteTime": {
     "end_time": "2017-04-07T03:33:11.845042",
     "start_time": "2017-04-07T03:33:11.835358"
    },
    "collapsed": true
   },
   "outputs": [],
   "source": [
    "def generate_ghmm_samples(T, pi, A, mu, Sigma):\n",
    "    x0 = np.random.choice(np.arange(len(pi)), p=pi)\n",
    "    z0 = np.random.multivariate_normal(mu[x0], Sigma[x0])\n",
    "    \n",
    "    x = [x0]\n",
    "    z = [z0]\n",
    "    \n",
    "    for t in xrange(1,T):\n",
    "        xt = np.random.choice(np.arange(len(pi)), p=A[x[-1]])\n",
    "        zt = np.random.multivariate_normal(mu[xt], Sigma[xt])\n",
    "        \n",
    "        x.append(xt)\n",
    "        z.append(zt)\n",
    "       \n",
    "    return z"
   ]
  },
  {
   "cell_type": "code",
   "execution_count": 153,
   "metadata": {
    "ExecuteTime": {
     "end_time": "2017-04-07T03:23:15.723777",
     "start_time": "2017-04-07T03:23:15.409267"
    },
    "collapsed": false
   },
   "outputs": [],
   "source": [
    "from __future__ import division\n",
    "import numpy as np\n",
    "import string\n",
    "import codecs\n",
    "import matplotlib.pyplot as plt\n",
    "import scipy.stats as stats\n",
    "\n",
    "class continuous_hmm(object):\n",
    "    def __init__(self):\n",
    "        self.A = None\n",
    "        self.mu = None\n",
    "        self.Sigma = None\n",
    "        self.pi = None\n",
    "    \n",
    "    # NEW CODE\n",
    "    def B(self, ob, state):\n",
    "        if state == ':':\n",
    "            out = np.zeros(len(self.pi))\n",
    "            for i in xrange(len(out)):\n",
    "                out[i] = stats.multivariate_normal(mu[i], Sigma[i]).pdf(ob)\n",
    "            return out\n",
    "        else:\n",
    "            return stats.multivariate_normal(mu[state], Sigma[state]).pdf(ob)\n",
    "    \n",
    "    def _forward(self, obs):\n",
    "        \"\"\"\n",
    "        Compute the scaled forward probability matrix and scaling factors.\n",
    "        Parameters\n",
    "        ----------\n",
    "        obs : ndarray of shape (T,)\n",
    "               The observation sequence\n",
    "\n",
    "        Returns\n",
    "        -------\n",
    "        alpha : ndarray of shape (T,N)\n",
    "                 The scaled forward probability matrix\n",
    "        c : ndarray of shape (T,)\n",
    "             The scaling factors c = [c_1,c_2,...,c_T]\n",
    "        \"\"\"\n",
    "        alpha = np.zeros((len(obs), len(self.pi)))\n",
    "        \n",
    "        c1 = 1/(np.dot(self.pi, self.B(obs[0],':')))\n",
    "        alpha[0,:] = c1*(self.pi*self.B(obs[0],':'))\n",
    "        \n",
    "        c = [c1]\n",
    "        for t in xrange(1,len(obs)):\n",
    "            ct = 1/(self.A.dot(alpha[t-1,:]).dot(self.B(obs[t],':')))\n",
    "            alpha[t,:] = ct*self.A.dot(alpha[t-1,:])*self.B(obs[t],':')\n",
    "            c.append(ct)\n",
    "        \n",
    "        return alpha, np.array(c)\n",
    "    \n",
    "    def _backward(self, obs, c):\n",
    "        \"\"\"\n",
    "        Compute the scaled backward probability matrix.\n",
    "        \n",
    "        Parameters\n",
    "        ----------\n",
    "        obs : ndarray of shape (T,)\n",
    "               The observation sequence\n",
    "        c : ndarray of shape (T,)\n",
    "             The scaling factors from the forward pass\n",
    "        \n",
    "        Returns\n",
    "        -------\n",
    "        beta : ndarray of shape (T,N)\n",
    "                The scaled backward probability matrix\n",
    "        \"\"\"\n",
    "        beta = np.zeros((len(obs), len(self.pi)))\n",
    "        cT = c[-1]\n",
    "        \n",
    "        beta[-1,:] = cT\n",
    "        for t in xrange(len(obs)-2,-1,-1):\n",
    "            beta[t,:] = c[t]*self.A.T.dot(self.B(obs[t+1],':')*beta[t+1,:])\n",
    "        return beta\n",
    "    \n",
    "    def _delta(self, obs, alpha, beta):\n",
    "        \"\"\"\n",
    "        Compute the delta probabilities.\n",
    "        \n",
    "        Parameters\n",
    "        ----------\n",
    "        obs : ndarray of shape (T,)\n",
    "            The observation sequence\n",
    "        alpha : ndarray of shape (T,N)\n",
    "            The scaled forward probability matrix from the forward pass\n",
    "        beta : ndarray of shape (T,N)\n",
    "            The scaled backward probability matrix from the backward pass\n",
    "        \n",
    "        Returns\n",
    "        -------\n",
    "        delta : ndarray of shape (T-1,N,N)\n",
    "              The delta probability array\n",
    "        gamma : ndarray of shape (T,N)\n",
    "              The gamma probability array\n",
    "        \"\"\"\n",
    "        delta = np.zeros((len(obs)-1, len(self.pi), len(self.pi)))\n",
    "        gamma = np.zeros((len(obs), len(self.pi)))\n",
    "        \n",
    "        for t in xrange(delta.shape[0]):\n",
    "            denom = 0\n",
    "            for l in xrange(self.A.shape[0]):\n",
    "                for k in xrange(self.A.shape[1]):\n",
    "                    denom += alpha[t,k]*self.A[l,k]*self.B(obs[t+1], l)*beta[t+1,l]\n",
    "            \n",
    "            for i in xrange(delta.shape[1]):\n",
    "                for j in xrange(delta.shape[2]):\n",
    "                    num = alpha[t,i]*A[j,i]*self.B(obs[t+1], j)*beta[t+1,j]\n",
    "                    delta[t,i,j] = num/denom\n",
    "                  \n",
    "        gamma[0:-1,:] = delta.sum(axis=2)\n",
    "        gamma[-1,:] = alpha[-1,:]*beta[-1,:]/np.dot(alpha[-1,:],beta[-1,:])\n",
    "        \n",
    "        return delta, gamma\n",
    "    \n",
    "    def _estimate(self, obs, delta, gamma):\n",
    "        \"\"\"\n",
    "        Estimate better parameter values.\n",
    "        \n",
    "        Parameters\n",
    "        ----------\n",
    "        obs : ndarray of shape (T,)\n",
    "            The observation sequence\n",
    "        delta : ndarray of shape (T-1,N,N)\n",
    "            The delta probability array\n",
    "        gamma : ndarray of shape (T,N)\n",
    "            The gamma probability array\n",
    "        \"\"\"\n",
    "        # update self.A, self.B, self.pi in place\n",
    "        for i in xrange(self.A.shape[0]):\n",
    "            for j in xrange(self.A.shape[1]):\n",
    "                num = 0\n",
    "                denom = 0\n",
    "                for t in xrange(0,len(obs)-1):\n",
    "                    num += delta[t,j,i]\n",
    "                    denom += gamma[t,j]\n",
    "                self.A[i,j] = num/denom\n",
    "        \n",
    "        self.A = self.A / self.A.sum(axis=1).reshape(2,1)\n",
    "        \n",
    "        # NEW CODE\n",
    "        for i in xrange(len(self.mu)):\n",
    "            self.mu[i] = np.zeros_like(self.mu[i])\n",
    "            for t in xrange(len(obs)):\n",
    "                self.mu[i] += (gamma[t,i]*obs[t]) / gamma[:,i].sum()\n",
    "            \n",
    "            \n",
    "            self.Sigma[i] = np.zeros_like(self.Sigma[i])\n",
    "            for t in xrange(len(obs)):\n",
    "                self.Sigma[i] += gamma[t,i]*np.outer(obs[t] - self.mu[i], obs[t] - self.mu[i]) / np.sum(gamma[:,i])\n",
    "            \n",
    "        \n",
    "        \"\"\"\n",
    "        for i in xrange(self.B.shape[0]):\n",
    "            for j in xrange(self.B.shape[1]):\n",
    "                self.B[i,j] = np.sum(gamma[:,j]*(obs==i)) / gamma[:,j].sum()\n",
    "        \"\"\"\n",
    "        \n",
    "        self.pi = gamma[0,:]\n",
    "        self.pi /= self.pi.sum()\n",
    "        \n",
    "    def fit(self, obs, A, mu, Sigma, pi, max_iter=200, tol=1e-4):\n",
    "        \"\"\"\n",
    "        Fit the model parameters to a given observation sequence.\n",
    "        Parameters\n",
    "        ----------\n",
    "        obs : ndarray of shape (T,)\n",
    "           Observation sequence on which to train the model.\n",
    "        A : stochastic ndarray of shape (N,N)\n",
    "           Initialization of state transition matrix\n",
    "        B : stochastic ndarray of shape (M,N)\n",
    "           Initialization of state observation matrix\n",
    "        pi : stochastic ndarray of shape (N,)\n",
    "           Initialization of initial state distribution\n",
    "        max_iter : integer\n",
    "           The maximum number of iterations to take\n",
    "        tol : float\n",
    "           The convergence threshold for change in log-probability\n",
    "        \"\"\"\n",
    "        # initialize self.A, self.B, self.pi\n",
    "        self.A = A\n",
    "        self.mu = mu\n",
    "        self.Sigma = Sigma\n",
    "        self.pi = pi\n",
    "        \n",
    "        # run the iteration\n",
    "        log_probs = [0]\n",
    "        \n",
    "        for i in xrange(max_iter):\n",
    "            alpha, c = self._forward(obs)\n",
    "            log_prob1 = -(np.log(c)).sum()\n",
    "            \n",
    "            if np.abs(log_prob1 - log_probs[-1]) < tol:\n",
    "                log_probs.append(log_prob1)\n",
    "               \n",
    "                break\n",
    "            else:\n",
    "                log_probs.append(log_prob1)\n",
    "            \n",
    "            beta = self._backward(obs, c)\n",
    "            delta, gamma = self._delta(obs, alpha, beta)\n",
    "            self._estimate(obs, delta, gamma)\n",
    "    \n",
    "       \n",
    "        print log_probs[-1]\n",
    "        \n",
    "        plt.plot(log_probs[1:])\n",
    "        plt.show()"
   ]
  },
  {
   "cell_type": "code",
   "execution_count": 166,
   "metadata": {
    "ExecuteTime": {
     "end_time": "2017-04-07T03:24:39.030527",
     "start_time": "2017-04-07T03:24:38.942714"
    },
    "collapsed": false
   },
   "outputs": [],
   "source": [
    "T = 500\n",
    "pi = np.array([.3,.7])\n",
    "A = np.array([[.4,.6],[.9,.1]])\n",
    "mu = [[2,0],[0,2]]\n",
    "Sigma = [np.eye(2), np.diag([.5,1])]\n",
    "\n",
    "obs = generate_ghmm_samples(T, pi, A, mu, Sigma)"
   ]
  },
  {
   "cell_type": "code",
   "execution_count": 167,
   "metadata": {
    "ExecuteTime": {
     "end_time": "2017-04-07T03:25:33.401578",
     "start_time": "2017-04-07T03:24:39.357681"
    },
    "collapsed": false
   },
   "outputs": [
    {
     "name": "stdout",
     "output_type": "stream",
     "text": [
      "-1594.29008109\n"
     ]
    },
    {
     "data": {
      "image/png": "[encoded data removed]",
      "text/plain": [
       "<matplotlib.figure.Figure at 0x11315a590>"
      ]
     },
     "metadata": {},
     "output_type": "display_data"
    }
   ],
   "source": [
    "N = 2\n",
    "A = np.random.rand(N,N)\n",
    "mu = [np.random.rand(N), np.random.rand(N)]\n",
    "Sigma = [np.diag(np.random.rand(2)), np.diag(np.random.rand(2))]\n",
    "pi = np.random.rand(N)\n",
    "\n",
    "g = continuous_hmm()\n",
    "g.fit(obs, A, mu, Sigma, pi)"
   ]
  },
  {
   "cell_type": "code",
   "execution_count": 168,
   "metadata": {
    "ExecuteTime": {
     "end_time": "2017-04-07T03:25:33.408048",
     "start_time": "2017-04-07T03:25:33.403521"
    },
    "collapsed": false
   },
   "outputs": [
    {
     "data": {
      "text/plain": [
       "[array([ 1.75762541,  0.04578295]),\n",
       " array([  7.77722286e-04,   2.16183432e+00])]"
      ]
     },
     "execution_count": 168,
     "metadata": {},
     "output_type": "execute_result"
    }
   ],
   "source": [
    "g.mu"
   ]
  },
  {
   "cell_type": "code",
   "execution_count": 169,
   "metadata": {
    "ExecuteTime": {
     "end_time": "2017-04-07T03:25:33.414574",
     "start_time": "2017-04-07T03:25:33.409623"
    },
    "collapsed": false
   },
   "outputs": [
    {
     "data": {
      "text/plain": [
       "[array([[ 1.30470861, -0.19209962],\n",
       "        [-0.19209962,  1.11288193]]), array([[ 0.52612901,  0.07661601],\n",
       "        [ 0.07661601,  0.86309037]])]"
      ]
     },
     "execution_count": 169,
     "metadata": {},
     "output_type": "execute_result"
    }
   ],
   "source": [
    "g.Sigma"
   ]
  },
  {
   "cell_type": "code",
   "execution_count": 170,
   "metadata": {
    "ExecuteTime": {
     "end_time": "2017-04-07T03:25:33.421056",
     "start_time": "2017-04-07T03:25:33.416030"
    },
    "collapsed": false
   },
   "outputs": [
    {
     "data": {
      "text/plain": [
       "array([[ 0.49176134,  0.50823866],\n",
       "       [ 0.98459372,  0.01540628]])"
      ]
     },
     "execution_count": 170,
     "metadata": {},
     "output_type": "execute_result"
    }
   ],
   "source": [
    "g.A"
   ]
  },
  {
   "cell_type": "code",
   "execution_count": 171,
   "metadata": {
    "ExecuteTime": {
     "end_time": "2017-04-07T03:25:33.426953",
     "start_time": "2017-04-07T03:25:33.422544"
    },
    "collapsed": false
   },
   "outputs": [
    {
     "data": {
      "text/plain": [
       "array([  1.00000000e+000,   1.53191565e-244])"
      ]
     },
     "execution_count": 171,
     "metadata": {},
     "output_type": "execute_result"
    }
   ],
   "source": [
    "g.pi"
   ]
  },
  {
   "cell_type": "markdown",
   "metadata": {},
   "source": [
    "I didn't run it on all 5000 samples because it was taking too long. The results are respectable even without the full 5000 samples called for. The values for pi are definitely off, but the others are looking good."
   ]
  }
 ],
 "metadata": {
  "anaconda-cloud": {},
  "hide_input": false,
  "kernelspec": {
   "display_name": "Python [default]",
   "language": "python",
   "name": "python2"
  },
  "language_info": {
   "codemirror_mode": {
    "name": "ipython",
    "version": 2
   },
   "file_extension": ".py",
   "mimetype": "text/x-python",
   "name": "python",
   "nbconvert_exporter": "python",
   "pygments_lexer": "ipython2",
   "version": "2.7.12"
  },
  "latex_envs": {
   "LaTeX_envs_menu_present": true,
   "bibliofile": "biblio.bib",
   "cite_by": "apalike",
   "current_citInitial": 1,
   "eqLabelWithNumbers": true,
   "eqNumInitial": 1,
   "labels_anchors": false,
   "latex_user_defs": false,
   "report_style_numbering": false,
   "user_envs_cfg": false
  }
 },
 "nbformat": 4,
 "nbformat_minor": 1
}
