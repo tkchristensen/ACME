{
 "cells": [
  {
   "cell_type": "code",
   "execution_count": 15,
   "metadata": {
    "ExecuteTime": {
     "end_time": "2017-01-12T22:47:57.463026",
     "start_time": "2017-01-12T22:47:57.453146"
    },
    "collapsed": true
   },
   "outputs": [],
   "source": [
    "import pandas as pd\n",
    "import numpy as np\n",
    "import scipy.linalg as la\n",
    "from sklearn.linear_model import Ridge"
   ]
  },
  {
   "cell_type": "markdown",
   "metadata": {},
   "source": [
    "### Load the Data"
   ]
  },
  {
   "cell_type": "code",
   "execution_count": 16,
   "metadata": {
    "ExecuteTime": {
     "end_time": "2017-01-12T22:47:58.700499",
     "start_time": "2017-01-12T22:47:58.609090"
    },
    "collapsed": false
   },
   "outputs": [
    {
     "data": {
      "text/html": [
       "<div>\n",
       "<table border=\"1\" class=\"dataframe\">\n",
       "  <thead>\n",
       "    <tr style=\"text-align: right;\">\n",
       "      <th></th>\n",
       "      <th>id</th>\n",
       "      <th>date</th>\n",
       "      <th>price</th>\n",
       "      <th>bedrooms</th>\n",
       "      <th>bathrooms</th>\n",
       "      <th>sqft_living</th>\n",
       "      <th>sqft_lot</th>\n",
       "      <th>floors</th>\n",
       "      <th>waterfront</th>\n",
       "      <th>view</th>\n",
       "      <th>...</th>\n",
       "      <th>grade</th>\n",
       "      <th>sqft_above</th>\n",
       "      <th>sqft_basement</th>\n",
       "      <th>yr_built</th>\n",
       "      <th>yr_renovated</th>\n",
       "      <th>zipcode</th>\n",
       "      <th>lat</th>\n",
       "      <th>long</th>\n",
       "      <th>sqft_living15</th>\n",
       "      <th>sqft_lot15</th>\n",
       "    </tr>\n",
       "  </thead>\n",
       "  <tbody>\n",
       "    <tr>\n",
       "      <th>21608</th>\n",
       "      <td>263000018</td>\n",
       "      <td>20140521T000000</td>\n",
       "      <td>360000.0</td>\n",
       "      <td>3</td>\n",
       "      <td>2.50</td>\n",
       "      <td>1530</td>\n",
       "      <td>1131</td>\n",
       "      <td>3.0</td>\n",
       "      <td>0</td>\n",
       "      <td>0</td>\n",
       "      <td>...</td>\n",
       "      <td>8</td>\n",
       "      <td>1530</td>\n",
       "      <td>0</td>\n",
       "      <td>2009</td>\n",
       "      <td>0</td>\n",
       "      <td>98103</td>\n",
       "      <td>47.6993</td>\n",
       "      <td>-122.346</td>\n",
       "      <td>1530</td>\n",
       "      <td>1509</td>\n",
       "    </tr>\n",
       "    <tr>\n",
       "      <th>21609</th>\n",
       "      <td>6600060120</td>\n",
       "      <td>20150223T000000</td>\n",
       "      <td>400000.0</td>\n",
       "      <td>4</td>\n",
       "      <td>2.50</td>\n",
       "      <td>2310</td>\n",
       "      <td>5813</td>\n",
       "      <td>2.0</td>\n",
       "      <td>0</td>\n",
       "      <td>0</td>\n",
       "      <td>...</td>\n",
       "      <td>8</td>\n",
       "      <td>2310</td>\n",
       "      <td>0</td>\n",
       "      <td>2014</td>\n",
       "      <td>0</td>\n",
       "      <td>98146</td>\n",
       "      <td>47.5107</td>\n",
       "      <td>-122.362</td>\n",
       "      <td>1830</td>\n",
       "      <td>7200</td>\n",
       "    </tr>\n",
       "    <tr>\n",
       "      <th>21610</th>\n",
       "      <td>1523300141</td>\n",
       "      <td>20140623T000000</td>\n",
       "      <td>402101.0</td>\n",
       "      <td>2</td>\n",
       "      <td>0.75</td>\n",
       "      <td>1020</td>\n",
       "      <td>1350</td>\n",
       "      <td>2.0</td>\n",
       "      <td>0</td>\n",
       "      <td>0</td>\n",
       "      <td>...</td>\n",
       "      <td>7</td>\n",
       "      <td>1020</td>\n",
       "      <td>0</td>\n",
       "      <td>2009</td>\n",
       "      <td>0</td>\n",
       "      <td>98144</td>\n",
       "      <td>47.5944</td>\n",
       "      <td>-122.299</td>\n",
       "      <td>1020</td>\n",
       "      <td>2007</td>\n",
       "    </tr>\n",
       "    <tr>\n",
       "      <th>21611</th>\n",
       "      <td>291310100</td>\n",
       "      <td>20150116T000000</td>\n",
       "      <td>400000.0</td>\n",
       "      <td>3</td>\n",
       "      <td>2.50</td>\n",
       "      <td>1600</td>\n",
       "      <td>2388</td>\n",
       "      <td>2.0</td>\n",
       "      <td>0</td>\n",
       "      <td>0</td>\n",
       "      <td>...</td>\n",
       "      <td>8</td>\n",
       "      <td>1600</td>\n",
       "      <td>0</td>\n",
       "      <td>2004</td>\n",
       "      <td>0</td>\n",
       "      <td>98027</td>\n",
       "      <td>47.5345</td>\n",
       "      <td>-122.069</td>\n",
       "      <td>1410</td>\n",
       "      <td>1287</td>\n",
       "    </tr>\n",
       "    <tr>\n",
       "      <th>21612</th>\n",
       "      <td>1523300157</td>\n",
       "      <td>20141015T000000</td>\n",
       "      <td>325000.0</td>\n",
       "      <td>2</td>\n",
       "      <td>0.75</td>\n",
       "      <td>1020</td>\n",
       "      <td>1076</td>\n",
       "      <td>2.0</td>\n",
       "      <td>0</td>\n",
       "      <td>0</td>\n",
       "      <td>...</td>\n",
       "      <td>7</td>\n",
       "      <td>1020</td>\n",
       "      <td>0</td>\n",
       "      <td>2008</td>\n",
       "      <td>0</td>\n",
       "      <td>98144</td>\n",
       "      <td>47.5941</td>\n",
       "      <td>-122.299</td>\n",
       "      <td>1020</td>\n",
       "      <td>1357</td>\n",
       "    </tr>\n",
       "  </tbody>\n",
       "</table>\n",
       "<p>5 rows × 21 columns</p>\n",
       "</div>"
      ],
      "text/plain": [
       "               id             date     price  bedrooms  bathrooms  \\\n",
       "21608   263000018  20140521T000000  360000.0         3       2.50   \n",
       "21609  6600060120  20150223T000000  400000.0         4       2.50   \n",
       "21610  1523300141  20140623T000000  402101.0         2       0.75   \n",
       "21611   291310100  20150116T000000  400000.0         3       2.50   \n",
       "21612  1523300157  20141015T000000  325000.0         2       0.75   \n",
       "\n",
       "       sqft_living  sqft_lot  floors  waterfront  view     ...      grade  \\\n",
       "21608         1530      1131     3.0           0     0     ...          8   \n",
       "21609         2310      5813     2.0           0     0     ...          8   \n",
       "21610         1020      1350     2.0           0     0     ...          7   \n",
       "21611         1600      2388     2.0           0     0     ...          8   \n",
       "21612         1020      1076     2.0           0     0     ...          7   \n",
       "\n",
       "       sqft_above  sqft_basement  yr_built  yr_renovated  zipcode      lat  \\\n",
       "21608        1530              0      2009             0    98103  47.6993   \n",
       "21609        2310              0      2014             0    98146  47.5107   \n",
       "21610        1020              0      2009             0    98144  47.5944   \n",
       "21611        1600              0      2004             0    98027  47.5345   \n",
       "21612        1020              0      2008             0    98144  47.5941   \n",
       "\n",
       "          long  sqft_living15  sqft_lot15  \n",
       "21608 -122.346           1530        1509  \n",
       "21609 -122.362           1830        7200  \n",
       "21610 -122.299           1020        2007  \n",
       "21611 -122.069           1410        1287  \n",
       "21612 -122.299           1020        1357  \n",
       "\n",
       "[5 rows x 21 columns]"
      ]
     },
     "execution_count": 16,
     "metadata": {},
     "output_type": "execute_result"
    }
   ],
   "source": [
    "houses = pd.read_csv(\"kc_house_data.csv\")\n",
    "houses.tail()"
   ]
  },
  {
   "cell_type": "markdown",
   "metadata": {},
   "source": [
    "### Clean the Data"
   ]
  },
  {
   "cell_type": "code",
   "execution_count": 30,
   "metadata": {
    "ExecuteTime": {
     "end_time": "2017-01-12T22:52:14.160355",
     "start_time": "2017-01-12T22:52:14.148717"
    },
    "collapsed": true
   },
   "outputs": [],
   "source": [
    "houses = houses[[\"price\", \"bedrooms\", \"bathrooms\", \"sqft_living\", \"sqft_lot\"]]\n",
    "\n",
    "house_features = houses.drop(\"price\", axis=1)\n",
    "house_prices = houses[\"price\"]"
   ]
  },
  {
   "cell_type": "markdown",
   "metadata": {},
   "source": [
    "### My Ordinary Least Squares\n",
    "I have changed this function from my previous homework assignment to calculate the coefficients and intercept separately."
   ]
  },
  {
   "cell_type": "code",
   "execution_count": 57,
   "metadata": {
    "ExecuteTime": {
     "end_time": "2017-01-12T23:04:49.290931",
     "start_time": "2017-01-12T23:04:49.265421"
    },
    "collapsed": false
   },
   "outputs": [],
   "source": [
    "def my_linreg(A,y):\n",
    "    \"\"\"\n",
    "    Ordinary Least Squares algorithm.\n",
    "    \n",
    "    Inputs:\n",
    "        A (array-like) - 2D array of training features.\n",
    "        y (array-like) - 1D array of target values.\n",
    "    Outputs:\n",
    "        w (array-like) - array of coefficients.\n",
    "        w0 (float) - intercept.\n",
    "    \"\"\"\n",
    "    # Center about mean.\n",
    "    X = A - A.mean(axis=0)\n",
    "    \n",
    "    # Solve for coefficients\n",
    "    Q,R = np.linalg.qr(X)\n",
    "    w = la.solve(R.T.dot(R), X.T.dot(y))\n",
    "    \n",
    "    # Solve for intercept\n",
    "    w0 = y.mean() - w.dot(A.mean(axis=0))\n",
    "    \n",
    "    return w, w0"
   ]
  },
  {
   "cell_type": "markdown",
   "metadata": {},
   "source": [
    "### My Ridge Regression"
   ]
  },
  {
   "cell_type": "code",
   "execution_count": 32,
   "metadata": {
    "ExecuteTime": {
     "end_time": "2017-01-12T22:52:14.858547",
     "start_time": "2017-01-12T22:52:14.825843"
    },
    "collapsed": false
   },
   "outputs": [],
   "source": [
    "def my_ridge(A, y, lmbda):\n",
    "    \"\"\"\n",
    "    Ridge Regression (Penalized Least Squares).\n",
    "    \n",
    "    Inputs:\n",
    "        A (array-like) - 2D array of training features.\n",
    "        y (array_like) - 1D array of target values.\n",
    "        lmbda (float) - scalar used to weight l2 regularization.\n",
    "    Outputs:\n",
    "        w (array-like) - array of coefficients.\n",
    "        w0 (float) - intercept.\n",
    "    \"\"\"\n",
    "    # Center about mean.\n",
    "    X = A - A.mean(axis=0)\n",
    "    \n",
    "    # Augment data with terms used for l2 regularization.\n",
    "    X = np.vstack((X, np.sqrt(lmbda)*np.eye(A.shape[1])))\n",
    "    Y = np.hstack((y, np.zeros(A.shape[1])))\n",
    "    \n",
    "    # Solve for coefficients.\n",
    "    Q,R = np.linalg.qr(X)\n",
    "    w = la.solve(R.T.dot(R), X.T.dot(Y))\n",
    "    \n",
    "    # Solve for intercept.\n",
    "    w0 = y.mean() - w.dot(A.mean(axis=0))\n",
    "    \n",
    "    return w, w0"
   ]
  },
  {
   "cell_type": "markdown",
   "metadata": {},
   "source": [
    "### Comparison (Answers)"
   ]
  },
  {
   "cell_type": "code",
   "execution_count": 73,
   "metadata": {
    "ExecuteTime": {
     "end_time": "2017-01-12T23:12:45.073809",
     "start_time": "2017-01-12T23:12:44.986044"
    },
    "collapsed": false
   },
   "outputs": [
    {
     "name": "stdout",
     "output_type": "stream",
     "text": [
      "OLS coefficients: \t\t\t[ -5.94068124e+04   6.26866040e+03   3.14291721e+02  -3.77652579e-01] \n",
      "\n",
      "(lambda=1e-05):\n",
      "\tMy Ridge coefficients\t\t[ -5.94068124e+04   6.26866038e+03   3.14291721e+02  -3.77652579e-01]\n",
      "\tScikit Ridge coefficients\t[ -5.94068124e+04   6.26866038e+03   3.14291721e+02  -3.77652579e-01]\n",
      "\n",
      "(lambda=0.0001):\n",
      "\tMy Ridge coefficients\t\t[ -5.94068119e+04   6.26866018e+03   3.14291721e+02  -3.77652578e-01]\n",
      "\tScikit Ridge coefficients\t[ -5.94068119e+04   6.26866018e+03   3.14291721e+02  -3.77652578e-01]\n",
      "\n",
      "(lambda=0.001):\n",
      "\tMy Ridge coefficients\t\t[ -5.94068074e+04   6.26865816e+03   3.14291719e+02  -3.77652573e-01]\n",
      "\tScikit Ridge coefficients\t[ -5.94068074e+04   6.26865816e+03   3.14291719e+02  -3.77652573e-01]\n",
      "\n",
      "(lambda=0.01):\n",
      "\tMy Ridge coefficients\t\t[ -5.94067623e+04   6.26863802e+03   3.14291705e+02  -3.77652518e-01]\n",
      "\tScikit Ridge coefficients\t[ -5.94067623e+04   6.26863802e+03   3.14291705e+02  -3.77652518e-01]\n",
      "\n",
      "(lambda=0.1):\n",
      "\tMy Ridge coefficients\t\t[ -5.94063112e+04   6.26843658e+03   3.14291565e+02  -3.77651974e-01]\n",
      "\tScikit Ridge coefficients\t[ -5.94063112e+04   6.26843658e+03   3.14291565e+02  -3.77651974e-01]\n",
      "\n",
      "(lambda=1):\n",
      "\tMy Ridge coefficients\t\t[ -5.94018003e+04   6.26642264e+03   3.14290163e+02  -3.77646526e-01]\n",
      "\tScikit Ridge coefficients\t[ -5.94018003e+04   6.26642264e+03   3.14290163e+02  -3.77646526e-01]\n",
      "\n",
      "(lambda=10):\n",
      "\tMy Ridge coefficients\t\t[ -5.93567324e+04   6.24632830e+03   3.14276136e+02  -3.77592074e-01]\n",
      "\tScikit Ridge coefficients\t[ -5.93567324e+04   6.24632830e+03   3.14276136e+02  -3.77592074e-01]\n",
      "\n",
      "(lambda=100):\n",
      "\tMy Ridge coefficients\t\t[ -5.89100507e+04   6.04980048e+03   3.14135432e+02  -3.77050235e-01]\n",
      "\tScikit Ridge coefficients\t[ -5.89100507e+04   6.04980048e+03   3.14135432e+02  -3.77050235e-01]\n",
      "\n",
      "(lambda=1000):\n",
      "\tMy Ridge coefficients\t\t[ -5.48064809e+04   4.45138918e+03   3.12710468e+02  -3.71903080e-01]\n",
      "\tScikit Ridge coefficients\t[ -5.48064809e+04   4.45138918e+03   3.12710468e+02  -3.71903080e-01]\n",
      "\n",
      "(lambda=10000):\n",
      "\tMy Ridge coefficients\t\t[ -3.25431646e+04   1.37543234e+02   3.02193750e+02  -3.40412208e-01]\n",
      "\tScikit Ridge coefficients\t[ -3.25431646e+04   1.37543234e+02   3.02193750e+02  -3.40412208e-01]\n",
      "\n",
      "(lambda=100000):\n",
      "\tMy Ridge coefficients\t\t[ -6.47830172e+03  -2.76834944e+02   2.86916587e+02  -2.99746376e-01]\n",
      "\tScikit Ridge coefficients\t[ -6.47830172e+03  -2.76834944e+02   2.86916587e+02  -2.99746376e-01]\n",
      "\n"
     ]
    }
   ],
   "source": [
    "lin_w, lin_w0 = my_linreg(house_features.values, house_prices.values)\n",
    "print \"OLS coefficients:\", '\\t\\t\\t', lin_w, '\\n'\n",
    "for lmbda in [10**k for k in np.arange(-5,6)]:\n",
    "    ridge_w, ridge_w0 = my_ridge(house_features.values, house_prices.values, lmbda)\n",
    "    skridge_w = Ridge(alpha=lmbda).fit(house_features, house_prices).coef_\n",
    "    \n",
    "    print \"(lambda=\"+str(lmbda)+\"):\"\n",
    "    print \"\\tMy Ridge coefficients\\t\\t\", ridge_w\n",
    "    print \"\\tScikit Ridge coefficients\\t\", skridge_w \n",
    "    print \"\""
   ]
  },
  {
   "cell_type": "markdown",
   "metadata": {
    "collapsed": true
   },
   "source": [
    "### Comparison (Timing)"
   ]
  },
  {
   "cell_type": "code",
   "execution_count": 47,
   "metadata": {
    "ExecuteTime": {
     "end_time": "2017-01-12T23:00:22.739912",
     "start_time": "2017-01-12T23:00:18.424852"
    },
    "collapsed": false
   },
   "outputs": [
    {
     "name": "stdout",
     "output_type": "stream",
     "text": [
      "1000 loops, best of 3: 1 ms per loop\n"
     ]
    }
   ],
   "source": [
    "%timeit my_linreg(house_features.values, house_prices.values)"
   ]
  },
  {
   "cell_type": "code",
   "execution_count": 48,
   "metadata": {
    "ExecuteTime": {
     "end_time": "2017-01-12T23:00:23.514465",
     "start_time": "2017-01-12T23:00:22.741837"
    },
    "collapsed": false
   },
   "outputs": [
    {
     "name": "stdout",
     "output_type": "stream",
     "text": [
      "100 loops, best of 3: 1.56 ms per loop\n"
     ]
    }
   ],
   "source": [
    "%timeit my_ridge(house_features.values, house_prices.values, .1)"
   ]
  },
  {
   "cell_type": "code",
   "execution_count": 72,
   "metadata": {
    "ExecuteTime": {
     "end_time": "2017-01-12T23:12:12.505828",
     "start_time": "2017-01-12T23:12:09.124134"
    },
    "collapsed": false
   },
   "outputs": [
    {
     "name": "stdout",
     "output_type": "stream",
     "text": [
      "1000 loops, best of 3: 795 µs per loop\n"
     ]
    }
   ],
   "source": [
    "%timeit Ridge(alpha=.1).fit(house_features.values, house_prices.values)"
   ]
  }
 ],
 "metadata": {
  "anaconda-cloud": {},
  "kernelspec": {
   "display_name": "Python [default]",
   "language": "python",
   "name": "python2"
  },
  "language_info": {
   "codemirror_mode": {
    "name": "ipython",
    "version": 2
   },
   "file_extension": ".py",
   "mimetype": "text/x-python",
   "name": "python",
   "nbconvert_exporter": "python",
   "pygments_lexer": "ipython2",
   "version": "2.7.12"
  },
  "latex_envs": {
   "bibliofile": "biblio.bib",
   "cite_by": "apalike",
   "current_citInitial": 1,
   "eqLabelWithNumbers": true,
   "eqNumInitial": 0
  }
 },
 "nbformat": 4,
 "nbformat_minor": 1
}
